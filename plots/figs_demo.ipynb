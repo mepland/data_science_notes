{
 "cells": [
  {
   "cell_type": "markdown",
   "metadata": {
    "incorrectly_encoded_metadata": "tags=[] jp-MarkdownHeadingCollapsed=true tags=[] jp-MarkdownHeadingCollapsed=true",
    "tags": []
   },
   "source": [
    "## Setup"
   ]
  },
  {
   "cell_type": "code",
   "execution_count": 1,
   "metadata": {},
   "outputs": [
    {
     "name": "stderr",
     "output_type": "stream",
     "text": [
      "<frozen importlib._bootstrap>:283: DeprecationWarning: the load_module() method is deprecated and slated for removal in Python 3.12; use exec_module() instead\n"
     ]
    }
   ],
   "source": [
    "%load_ext autoreload\n",
    "%autoreload 2\n",
    "\n",
    "# TODO remove\n",
    "import sys,os\n",
    "sys.path.append(os.path.expanduser('~/imodels'))\n",
    "sys.path.append(os.path.expanduser('~/dtreeviz'))\n",
    "\n",
    "########################################################\n",
    "# python\n",
    "\n",
    "import os\n",
    "import time\n",
    "import pandas as pd\n",
    "import numpy as np\n",
    "import scipy.stats\n",
    "norm = scipy.stats.norm\n",
    "import bisect\n",
    "import warnings\n",
    "# not working\n",
    "# warnings.filterwarnings('ignore', category=DeprecationWarning) # , message='the load_module() method is deprecated and slated for removal in Python 3.12; use exec_module() instead')\n",
    "\n",
    "########################################################\n",
    "# figs (imodels), xgboost, sklearn\n",
    "\n",
    "import imodels\n",
    "from imodels import FIGSClassifier\n",
    "\n",
    "import xgboost as xgb\n",
    "\n",
    "from sklearn.datasets import make_classification\n",
    "from sklearn.model_selection import train_test_split\n",
    "from sklearn import metrics\n",
    "from sklearn.metrics import roc_curve, precision_recall_curve\n",
    "from sklearn.inspection import permutation_importance\n",
    "\n",
    "########################################################\n",
    "# dtreeviz\n",
    "# must follow the package README to properly install all dependencies!\n",
    "\n",
    "from dtreeviz import trees\n",
    "from dtreeviz.models.sklearn_decision_trees import ShadowSKDTree\n",
    "from dtreeviz.models.xgb_decision_tree import ShadowXGBDTree\n",
    "from imodels.tree.viz_utils import extract_sklearn_tree_from_figs\n",
    "from dtreeviz.colors import mpl_colors\n",
    "\n",
    "from wand.image import Image\n",
    "from svglib.svglib import svg2rlg\n",
    "from reportlab.graphics import renderPDF\n",
    "\n",
    "########################################################\n",
    "# skompiler\n",
    "\n",
    "from skompiler import skompile\n",
    "\n",
    "########################################################\n",
    "# plotting\n",
    "\n",
    "import matplotlib as mpl\n",
    "import matplotlib.pyplot as plt\n",
    "import matplotlib.transforms\n",
    "%matplotlib inline\n",
    "\n",
    "warnings.filterwarnings('ignore', message='Matplotlib is currently using module://matplotlib_inline.backend_inline, which is a non-GUI backend, so cannot show the figure.')\n",
    "warnings.filterwarnings('ignore', message=\"urllib3 (1.26.12) or chardet (None)/charset_normalizer (3.0.0) doesn't match a supported version!\")\n",
    "\n",
    "########################################################\n",
    "# set global rnd_seed for reproducibility\n",
    "\n",
    "rnd_seed = 42\n",
    "np.random.seed(rnd_seed)\n",
    "\n",
    "datasets = ['train', 'holdout']"
   ]
  },
  {
   "cell_type": "code",
   "execution_count": 2,
   "metadata": {},
   "outputs": [],
   "source": [
    "from plotting import * # load plotting code"
   ]
  },
  {
   "cell_type": "code",
   "execution_count": 3,
   "metadata": {},
   "outputs": [],
   "source": [
    "inline=False # plot inline or to pdf\n",
    "output = './output_figs_demo' # output dir\n",
    "os.makedirs(output, exist_ok=True)"
   ]
  },
  {
   "cell_type": "code",
   "execution_count": 4,
   "metadata": {},
   "outputs": [],
   "source": [
    "def save_dtreeviz(viz, m_path, fname, tag='', inline=inline, svg=False, png=False, pdf=True):\n",
    "    if inline:\n",
    "        display(viz)\n",
    "    else:\n",
    "        if not (svg or png or pdf):\n",
    "            warnings.warn('Not saving anything!')\n",
    "\n",
    "        os.makedirs(m_path, exist_ok=True)\n",
    "        full_path = f'{m_path}/{fname}{tag}'\n",
    "\n",
    "        # svg\n",
    "        viz.save(f'{full_path}.svg')\n",
    "\n",
    "        # pdf via svglib\n",
    "        if pdf:\n",
    "            renderPDF.drawToFile(svg2rlg(f'{full_path}.svg'), f'{full_path}.pdf')\n",
    "\n",
    "        # png via wand / ImageMagick\n",
    "        if png:\n",
    "            img = Image(filename=f'{full_path}.svg', resolution=500)\n",
    "            img.format = 'png'\n",
    "            img.save(filename=f'{full_path}.png')\n",
    "\n",
    "        if not svg:\n",
    "            # clean up svg\n",
    "            os.remove(f'{full_path}.svg')\n",
    "\n",
    "        # clean up graphviz dot file (no extension)\n",
    "        os.remove(full_path)"
   ]
  },
  {
   "cell_type": "code",
   "execution_count": 5,
   "metadata": {},
   "outputs": [],
   "source": [
    "def save_plt(m_path, fname, tag='', inline=inline):\n",
    "    plt.tight_layout()\n",
    "    if inline:\n",
    "        plt.show()\n",
    "    else:\n",
    "        os.makedirs(m_path, exist_ok=True)\n",
    "        plt.savefig(f'{m_path}/{fname}{tag}.pdf')\n",
    "        plt.close('all')"
   ]
  },
  {
   "cell_type": "markdown",
   "metadata": {
    "incorrectly_encoded_metadata": "tags=[] jp-MarkdownHeadingCollapsed=true tags=[] jp-MarkdownHeadingCollapsed=true jp-MarkdownHeadingCollapsed=true",
    "tags": []
   },
   "source": [
    "***\n",
    "# Generate Random Data\n",
    "Include additive structure that FIGS does well on"
   ]
  },
  {
   "cell_type": "code",
   "execution_count": 6,
   "metadata": {},
   "outputs": [],
   "source": [
    "mc_params_all = {'n_samples': int(1e5), 'n_classes': 2, 'shuffle': False, 'shift': 0.0, 'scale': 1.0, 'hypercube': True}\n",
    "\n",
    "mc_params = [\n",
    "    {'n_features': 20, 'n_informative': 6, 'n_redundant': 4, 'n_repeated': 0,\n",
    "     'n_clusters_per_class': 5, 'weights': [0.5], 'flip_y': 0.05, 'class_sep': 0.9},\n",
    "    {'n_features': 10, 'n_informative': 4, 'n_redundant': 2, 'n_repeated': 0,\n",
    "     'n_clusters_per_class': 2, 'weights': [0.7], 'flip_y': 0.1, 'class_sep': 0.9},\n",
    "    {'n_features': 5, 'n_informative': 2, 'n_redundant': 2, 'n_repeated': 0,\n",
    "     'n_clusters_per_class': 2, 'weights': [0.6], 'flip_y': 0.04, 'class_sep': 0.9},\n",
    "]\n",
    "\n",
    "X = None\n",
    "y = None\n",
    "feat_names = []\n",
    "\n",
    "for i_mc_param, mc_param in enumerate(mc_params):\n",
    "    param = {**mc_params_all, **mc_param, 'random_state': rnd_seed+i_mc_param}\n",
    "    X_i, y_i = make_classification(**param)\n",
    "    if X is None:\n",
    "        X = X_i\n",
    "    else:\n",
    "        X = np.concatenate([X, X_i], axis=1)\n",
    "    if y is None:\n",
    "        y = y_i\n",
    "    else:\n",
    "        y = np.logical_and(y, y_i).astype(int)\n",
    "    feat_names += [f'x_{i_mc_param}_{_}' for _ in range(X_i.shape[1])]\n",
    "    del X_i; del y_i;"
   ]
  },
  {
   "cell_type": "markdown",
   "metadata": {},
   "source": [
    "Make Train, Validation, and Holdout Sets"
   ]
  },
  {
   "cell_type": "code",
   "execution_count": 7,
   "metadata": {},
   "outputs": [],
   "source": [
    "X_trainVal, X_holdout, y_trainVal, y_holdout = train_test_split(X, y, test_size=0.15, random_state=rnd_seed, stratify=y)\n",
    "del X; del y;\n",
    "\n",
    "X_train, X_val, y_train, y_val = train_test_split(X_trainVal, y_trainVal, test_size=0.2, random_state=rnd_seed, stratify=y_trainVal)\n",
    "# del X_trainVal; del y_trainVal;"
   ]
  },
  {
   "cell_type": "markdown",
   "metadata": {
    "incorrectly_encoded_metadata": "tags=[] jp-MarkdownHeadingCollapsed=true tags=[] jp-MarkdownHeadingCollapsed=true jp-MarkdownHeadingCollapsed=true",
    "tags": []
   },
   "source": [
    "***\n",
    "# FIGS\n",
    "Note we are not using early stopping with FIGS, so use `X_trainVal` during training to take advantage of all rows."
   ]
  },
  {
   "cell_type": "code",
   "execution_count": 8,
   "metadata": {},
   "outputs": [],
   "source": [
    "model_figs = FIGSClassifier(max_rules=20)"
   ]
  },
  {
   "cell_type": "code",
   "execution_count": 9,
   "metadata": {},
   "outputs": [
    {
     "name": "stdout",
     "output_type": "stream",
     "text": [
      "FIGS ran in 15 seconds\n"
     ]
    }
   ],
   "source": [
    "time_figs_start = time.time()\n",
    "model_figs.fit(X_trainVal, y_trainVal, feature_names=feat_names);\n",
    "time_figs_end = time.time()\n",
    "print(f'FIGS ran in {time_figs_end-time_figs_start:.0f} seconds')"
   ]
  },
  {
   "cell_type": "code",
   "execution_count": 10,
   "metadata": {},
   "outputs": [],
   "source": [
    "def count_splits_figs(model):\n",
    "    splits = []\n",
    "    for tree_ in model.trees_:\n",
    "        node_counter = iter(range(1, int(1e06)))\n",
    "        def _count_node(node):\n",
    "            if node.left is None:\n",
    "                return\n",
    "            node_id=next(node_counter)\n",
    "            _count_node(node.left)\n",
    "            _count_node(node.right)\n",
    "\n",
    "        _count_node(tree_)\n",
    "        splits.append(next(node_counter)-1)\n",
    "    return sum(splits)\n",
    "\n",
    "n_splits_figs = count_splits_figs(model_figs)"
   ]
  },
  {
   "cell_type": "code",
   "execution_count": 11,
   "metadata": {},
   "outputs": [
    {
     "name": "stdout",
     "output_type": "stream",
     "text": [
      "FIGS used 2 trees and 20 splits\n"
     ]
    }
   ],
   "source": [
    "print(f'FIGS used {len(model_figs.trees_)} trees and {n_splits_figs:,} splits')"
   ]
  },
  {
   "cell_type": "code",
   "execution_count": 12,
   "metadata": {},
   "outputs": [
    {
     "name": "stdout",
     "output_type": "stream",
     "text": [
      "> ------------------------------\n",
      "> FIGS-Fast Interpretable Greedy-Tree Sums:\n",
      "> \tPredictions are made by summing the \"Val\" reached by traversing each tree\n",
      "> ------------------------------\n",
      "x_2_1 <= 0.048 (Tree #0 root)\n",
      "\tx_2_0 <= -0.608 (split)\n",
      "\t\tx_1_4 <= 0.018 (split)\n",
      "\t\t\tx_0_7 <= 1.400 (split)\n",
      "\t\t\t\tVal: 0.125 (leaf)\n",
      "\t\t\t\tVal: 0.377 (leaf)\n",
      "\t\t\tVal: 0.052 (leaf)\n",
      "\t\tVal: 0.019 (leaf)\n",
      "\tx_0_8 <= 2.363 (split)\n",
      "\t\tx_0_7 <= 1.870 (split)\n",
      "\t\t\tVal: 0.181 (leaf)\n",
      "\t\t\tVal: 0.366 (leaf)\n",
      "\t\tx_1_0 <= 0.339 (split)\n",
      "\t\t\tx_2_0 <= -0.046 (split)\n",
      "\t\t\t\tVal: 0.423 (leaf)\n",
      "\t\t\t\tVal: 0.688 (leaf)\n",
      "\t\t\tx_1_1 <= 2.087 (split)\n",
      "\t\t\t\tVal: 0.227 (leaf)\n",
      "\t\t\t\tVal: 0.502 (leaf)\n",
      "\n",
      "\t+\n",
      "x_0_2 <= -0.432 (Tree #1 root)\n",
      "\tVal: -0.040 (leaf)\n",
      "\tx_0_3 <= 0.455 (split)\n",
      "\t\tVal: -0.015 (leaf)\n",
      "\t\tx_2_1 <= -0.317 (split)\n",
      "\t\t\tVal: 0.013 (leaf)\n",
      "\t\t\tx_1_3 <= -0.299 (split)\n",
      "\t\t\t\tx_0_0 <= -0.958 (split)\n",
      "\t\t\t\t\tx_1_2 <= 0.359 (split)\n",
      "\t\t\t\t\t\tVal: -0.021 (leaf)\n",
      "\t\t\t\t\t\tVal: 0.437 (leaf)\n",
      "\t\t\t\t\tx_2_0 <= 0.152 (split)\n",
      "\t\t\t\t\t\tVal: 0.414 (leaf)\n",
      "\t\t\t\t\t\tVal: 0.214 (leaf)\n",
      "\t\t\t\tx_1_4 <= 0.165 (split)\n",
      "\t\t\t\t\tx_0_5 <= 0.930 (split)\n",
      "\t\t\t\t\t\tx_2_0 <= 0.567 (split)\n",
      "\t\t\t\t\t\t\tVal: 0.469 (leaf)\n",
      "\t\t\t\t\t\t\tVal: 0.063 (leaf)\n",
      "\t\t\t\t\t\tVal: -0.027 (leaf)\n",
      "\t\t\t\t\tx_1_5 <= -0.480 (split)\n",
      "\t\t\t\t\t\tVal: 0.162 (leaf)\n",
      "\t\t\t\t\t\tVal: -0.151 (leaf)\n",
      "\n"
     ]
    }
   ],
   "source": [
    "print(model_figs)"
   ]
  },
  {
   "cell_type": "code",
   "execution_count": 13,
   "metadata": {},
   "outputs": [
    {
     "name": "stdout",
     "output_type": "stream",
     "text": [
      "------------\n",
      "x_2_1 <= 0.048 9694/68000 (14.26%)\n",
      "\tx_2_0 <= -0.608 1205/41959 (2.87%)\n",
      "\t\tx_1_4 <= 0.018 1139/17540 (6.49%)\n",
      "\t\t\tx_0_7 <= 1.400 693/3569 (19.42%)\n",
      "\t\t\t\tΔRisk = 0.13 286/2525 (11.33%)\n",
      "\t\t\t\tΔRisk = 0.38 407/1044 (38.98%)\n",
      "\t\t\tΔRisk = 0.05 446/13971 (3.19%)\n",
      "\t\tΔRisk = 0.02 66/24419 (0.27%)\n",
      "\tx_0_8 <= 2.363 8489/26041 (32.6%)\n",
      "\t\tx_0_7 <= 1.870 4371/19070 (22.92%)\n",
      "\t\t\tΔRisk = 0.18 2504/13936 (17.97%)\n",
      "\t\t\tΔRisk = 0.37 1867/5134 (36.37%)\n",
      "\t\tx_1_0 <= 0.339 4118/6971 (59.07%)\n",
      "\t\t\tx_2_0 <= -0.046 3206/4510 (71.09%)\n",
      "\t\t\t\tΔRisk = 0.42 540/1055 (51.18%)\n",
      "\t\t\t\tΔRisk = 0.69 2666/3455 (77.16%)\n",
      "\t\t\tx_1_1 <= 2.087 912/2461 (37.06%)\n",
      "\t\t\t\tΔRisk = 0.23 462/1698 (27.21%)\n",
      "\t\t\t\tΔRisk = 0.50 450/763 (58.98%)\n",
      "\n",
      "\t+\n",
      "x_0_2 <= -0.432 9694/68000 (14.26%)\n",
      "\tΔRisk = -0.04 1458/28479 (5.12%)\n",
      "\tx_0_3 <= 0.455 8236/39521 (20.84%)\n",
      "\t\tΔRisk = -0.01 3164/21232 (14.9%)\n",
      "\t\tx_2_1 <= -0.317 5072/18289 (27.73%)\n",
      "\t\t\tΔRisk = 0.01 354/8539 (4.15%)\n",
      "\t\t\tx_1_3 <= -0.299 4718/9750 (48.39%)\n",
      "\t\t\t\tx_0_0 <= -0.958 3026/5107 (59.25%)\n",
      "\t\t\t\t\tx_1_2 <= 0.359 411/1412 (29.11%)\n",
      "\t\t\t\t\t\tΔRisk = -0.02 196/1117 (17.55%)\n",
      "\t\t\t\t\t\tΔRisk = 0.44 215/295 (72.88%)\n",
      "\t\t\t\t\tx_2_0 <= 0.152 2615/3695 (70.77%)\n",
      "\t\t\t\t\t\tΔRisk = 0.41 1217/1737 (70.06%)\n",
      "\t\t\t\t\t\tΔRisk = 0.21 1398/1958 (71.4%)\n",
      "\t\t\t\tx_1_4 <= 0.165 1692/4643 (36.44%)\n",
      "\t\t\t\t\tx_0_5 <= 0.930 823/1661 (49.55%)\n",
      "\t\t\t\t\t\tx_2_0 <= 0.567 651/1052 (61.88%)\n",
      "\t\t\t\t\t\t\tΔRisk = 0.47 541/736 (73.51%)\n",
      "\t\t\t\t\t\t\tΔRisk = 0.06 110/316 (34.81%)\n",
      "\t\t\t\t\t\tΔRisk = -0.03 172/609 (28.24%)\n",
      "\t\t\t\t\tx_1_5 <= -0.480 869/2982 (29.14%)\n",
      "\t\t\t\t\t\tΔRisk = 0.16 724/1325 (54.64%)\n",
      "\t\t\t\t\t\tΔRisk = -0.15 145/1657 (8.75%)\n",
      "\n"
     ]
    }
   ],
   "source": [
    "print(model_figs.print_tree(X_train, y_train))"
   ]
  },
  {
   "cell_type": "code",
   "execution_count": 14,
   "metadata": {},
   "outputs": [
    {
     "data": {
      "image/png": "[encoded data removed]",
      "text/plain": [
       "<Figure size 1050x1050 with 2 Axes>"
      ]
     },
     "metadata": {},
     "output_type": "display_data"
    }
   ],
   "source": [
    "model_figs.plot(fig_size=7)"
   ]
  },
  {
   "cell_type": "markdown",
   "metadata": {
    "incorrectly_encoded_metadata": "tags=[] jp-MarkdownHeadingCollapsed=true tags=[] jp-MarkdownHeadingCollapsed=true tags=[] jp-MarkdownHeadingCollapsed=true jp-MarkdownHeadingCollapsed=true",
    "tags": []
   },
   "source": [
    "***\n",
    "# XGBoost"
   ]
  },
  {
   "cell_type": "code",
   "execution_count": 15,
   "metadata": {},
   "outputs": [],
   "source": [
    "params_default = {'max_depth': 6, 'learning_rate': 0.3, 'gamma': 0.0, 'reg_alpha': 0.0, 'reg_lambda': 1.0}"
   ]
  },
  {
   "cell_type": "code",
   "execution_count": 16,
   "metadata": {},
   "outputs": [],
   "source": [
    "fixed_setup_params = {\n",
    "    'max_num_boost_rounds': 500, # maximum number of boosting rounds to run / trees to create\n",
    "    'xgb_objective': 'binary:logistic', # objective function for binary classification\n",
    "    'xgb_verbosity': 0, #  The degree of verbosity. Valid values are 0 (silent) - 3 (debug).\n",
    "    'xgb_n_jobs': -1, # Number of parallel threads used to run XGBoost. -1 makes use of all cores in your system\n",
    "    'eval_metric': 'auc', # evaluation metric for early stopping\n",
    "    'early_stopping_rounds': 10, # must see improvement over last num_early_stopping_rounds or will halt\n",
    "}"
   ]
  },
  {
   "cell_type": "code",
   "execution_count": 17,
   "metadata": {},
   "outputs": [],
   "source": [
    "fixed_fit_params = {\n",
    "    'eval_set': [(X_val, y_val)], # data sets to use for early stopping evaluation\n",
    "    'verbose': False, # even more verbosity control\n",
    "}"
   ]
  },
  {
   "cell_type": "code",
   "execution_count": 18,
   "metadata": {},
   "outputs": [],
   "source": [
    "model_xgboost = xgb.XGBClassifier(n_estimators=fixed_setup_params['max_num_boost_rounds'],\n",
    "                                  objective=fixed_setup_params['xgb_objective'],\n",
    "                                  verbosity=fixed_setup_params['xgb_verbosity'],\n",
    "                                  eval_metric=fixed_setup_params['eval_metric'],\n",
    "                                  early_stopping_rounds=fixed_setup_params['early_stopping_rounds'],\n",
    "                                  random_state=rnd_seed+3, **params_default)"
   ]
  },
  {
   "cell_type": "code",
   "execution_count": 19,
   "metadata": {},
   "outputs": [
    {
     "name": "stdout",
     "output_type": "stream",
     "text": [
      "XGBoost ran in 3 seconds\n"
     ]
    }
   ],
   "source": [
    "time_xgboost_start = time.time()\n",
    "model_xgboost.fit(X_train, y_train, **fixed_fit_params);\n",
    "time_xgboost_end = time.time()\n",
    "print(f'XGBoost ran in {time_xgboost_end-time_xgboost_start:.0f} seconds')"
   ]
  },
  {
   "cell_type": "code",
   "execution_count": 20,
   "metadata": {},
   "outputs": [],
   "source": [
    "n_splits_xgboost = sum([tree.count('\"split\"') for tree in model_xgboost.get_booster().get_dump(dump_format='json')[0:model_xgboost.best_ntree_limit]])"
   ]
  },
  {
   "cell_type": "code",
   "execution_count": 21,
   "metadata": {},
   "outputs": [
    {
     "name": "stdout",
     "output_type": "stream",
     "text": [
      "XGBoost used 58 trees and 2,767 splits\n"
     ]
    }
   ],
   "source": [
    "print(f'XGBoost used {model_xgboost.best_ntree_limit} trees and {n_splits_xgboost:,} splits')"
   ]
  },
  {
   "cell_type": "markdown",
   "metadata": {
    "incorrectly_encoded_metadata": "tags=[] jp-MarkdownHeadingCollapsed=true tags=[] jp-MarkdownHeadingCollapsed=true tags=[] jp-MarkdownHeadingCollapsed=true jp-MarkdownHeadingCollapsed=true",
    "tags": []
   },
   "source": [
    "***\n",
    "# Evaluate"
   ]
  },
  {
   "cell_type": "markdown",
   "metadata": {
    "incorrectly_encoded_metadata": "tags=[] jp-MarkdownHeadingCollapsed=true tags=[] jp-MarkdownHeadingCollapsed=true",
    "tags": []
   },
   "source": [
    "## Setup"
   ]
  },
  {
   "cell_type": "code",
   "execution_count": 22,
   "metadata": {},
   "outputs": [],
   "source": [
    "def classifier_metrics(model, model_nname, X_train, y_train, X_holdout, y_holdout, feature_names, do_permutation_importance=True, print_classification_report=False):\n",
    "    model_metrics = {'nname': model_nname}\n",
    "    dfp_importance = pd.DataFrame({'feature': feature_names})\n",
    "    dfp_importance['icolX'] = dfp_importance.index\n",
    "\n",
    "    for dataset in datasets[::-1]:\n",
    "        if dataset == 'holdout':\n",
    "            X = X_holdout\n",
    "            y = y_holdout\n",
    "        elif dataset == 'train':\n",
    "            X = X_train\n",
    "            y = y_train\n",
    "        y_pred = model.predict(X)\n",
    "        # only want positive class prob\n",
    "        try:\n",
    "            # use best_iteration for XGBoost\n",
    "            y_pred_prob = model.predict_proba(X, iteration_range=(0, model.best_iteration+1))[:, 1]\n",
    "        except:\n",
    "            y_pred_prob = model.predict_proba(X)[:, 1]\n",
    "\n",
    "        model_metrics[dataset] = {}\n",
    "        model_metrics[dataset]['accuracy_score'] = metrics.accuracy_score(y, y_pred)\n",
    "        model_metrics[dataset]['precision_score'] = metrics.precision_score(y, y_pred, zero_division=0) # zero_division=0 hides divide by zero warnings that come up with LR doesn't converge\n",
    "        model_metrics[dataset]['recall_score'] = metrics.recall_score(y, y_pred)\n",
    "        model_metrics[dataset]['f1_score'] = metrics.f1_score(y, y_pred)\n",
    "        model_metrics[dataset]['roc_auc_score'] = metrics.roc_auc_score(y, y_pred_prob)\n",
    "        model_metrics[dataset]['average_precision_score'] = metrics.average_precision_score(y, y_pred_prob) # PR ROC AUC\n",
    "        model_metrics[dataset]['log_loss'] = metrics.log_loss(y, y_pred)\n",
    "        model_metrics[dataset]['cohen_kappa_score'] = metrics.cohen_kappa_score(y, y_pred)\n",
    "        # https://scikit-learn.org/stable/modules/generated/sklearn.metrics.confusion_matrix.html\n",
    "        CM = metrics.confusion_matrix(y, y_pred)\n",
    "        model_metrics[dataset]['confusion_matrix'] = CM\n",
    "        model_metrics[dataset]['TN'] = CM[0][0]\n",
    "        model_metrics[dataset]['FP'] = CM[0][1]\n",
    "        model_metrics[dataset]['FN'] = CM[1][0]\n",
    "        model_metrics[dataset]['TP'] = CM[1][1]\n",
    "        model_metrics[dataset]['TNR'] = CM[0][0] / (CM[0][0] + CM[0][1]) # TN / (TN + FP)\n",
    "        model_metrics[dataset]['NPV'] = CM[0][0] / (CM[0][0] + CM[1][0]) # TN / (TN + FN)\n",
    "\n",
    "        model_metrics[dataset]['pop_PPV'] = len(np.where(y == 1)[0]) / len(y) # P / (P + N)\n",
    "\n",
    "        # model_metrics[dataset]['dfp_y'] = pd.DataFrame( {'y': y, 'y_pred_prob': y_pred_prob, 'y_pred': y_pred} )\n",
    "\n",
    "        # for LR models\n",
    "        # model_converged = (model.n_iter_ < model.max_iter)[0]\n",
    "\n",
    "        if print_classification_report:\n",
    "            print(f'For {dataset}:')\n",
    "            print(metrics.classification_report(y, y_pred))\n",
    "\n",
    "        # ROC Curves\n",
    "        def get_n_predicted_positive_vs_thr(y_pred_prob, thr):\n",
    "            y_pred_prob_sorted = sorted(y_pred_prob)\n",
    "            return [len(y_pred_prob_sorted) - bisect.bisect_left(y_pred_prob_sorted, _thr) for _thr in thr]\n",
    "\n",
    "        fpr, tpr, thr_of_fpr_tpr = roc_curve(y, y_pred_prob)\n",
    "        n_predicted_positive_vs_thr_of_fpr_tpr = get_n_predicted_positive_vs_thr(y_pred_prob, thr_of_fpr_tpr)\n",
    "        dfp_eval_fpr_tpr = pd.DataFrame({'fpr': fpr, 'tpr': tpr, 'thr': thr_of_fpr_tpr, 'n_predicted_positive': n_predicted_positive_vs_thr_of_fpr_tpr}).sort_values(by='thr').reset_index(drop=True)\n",
    "\n",
    "        precision, recall, thr_of_precision_recall = precision_recall_curve(y, y_pred_prob)\n",
    "        thr_of_precision_recall = np.insert(thr_of_precision_recall, 0, [0])\n",
    "        n_predicted_positive_vs_thr_of_precision_recall = get_n_predicted_positive_vs_thr(y_pred_prob, thr_of_precision_recall)\n",
    "        dfp_eval_precision_recall = pd.DataFrame({'precision': precision, 'recall': recall, 'thr': thr_of_precision_recall, 'n_predicted_positive': n_predicted_positive_vs_thr_of_precision_recall})\n",
    "        dfp_eval_precision_recall['f1'] = 2*(dfp_eval_precision_recall['precision'] * dfp_eval_precision_recall['recall']) / (dfp_eval_precision_recall['precision'] + dfp_eval_precision_recall['recall'])\n",
    "\n",
    "        model_metrics[dataset]['dfp_eval_fpr_tpr'] = dfp_eval_fpr_tpr\n",
    "        model_metrics[dataset]['dfp_eval_precision_recall'] = dfp_eval_precision_recall\n",
    "\n",
    "        roc_entry = {'name': f'{model_nname.lower()}_{dataset}',\n",
    "                     'nname': f'{model_nname} ({dataset.title()})',\n",
    "                     'dfp_eval_fpr_tpr': dfp_eval_fpr_tpr,\n",
    "                     'dfp_eval_precision_recall': dfp_eval_precision_recall\n",
    "                    }\n",
    "        if dataset == 'holdout':\n",
    "            roc_entry['c'] = 'C2'\n",
    "            roc_entry['ls'] = '-'\n",
    "        else:\n",
    "            roc_entry['c'] = 'black'\n",
    "            roc_entry['ls'] = ':'\n",
    "\n",
    "        model_metrics[dataset]['roc_entry'] = roc_entry\n",
    "\n",
    "        if do_permutation_importance:\n",
    "            # print('Start do_permutation_importance func')\n",
    "            # Permutation feature importance\n",
    "            # slow for thousands of features!\n",
    "            # https://scikit-learn.org/stable/modules/generated/sklearn.inspection.permutation_importance.html\n",
    "            # https://scikit-learn.org/stable/modules/permutation_importance.html#permutation-importance\n",
    "            # https://scikit-learn.org/stable/auto_examples/inspection/plot_permutation_importance.html#sphx-glr-auto-examples-inspection-plot-permutation-importance-py\n",
    "            # https://scikit-learn.org/stable/auto_examples/inspection/plot_permutation_importance_multicollinear.html#sphx-glr-auto-examples-inspection-plot-permutation-importance-multicollinear-py\n",
    "            _permutation_importance = permutation_importance(model, X, y, n_repeats=10, random_state=42, n_jobs=-1, scoring='roc_auc')\n",
    "            # print('End permutation_importance func')\n",
    "\n",
    "            importance_permutation_mean = _permutation_importance['importances_mean']\n",
    "            importance_permutation_std = _permutation_importance['importances_std']\n",
    "            dfp_importance_permutation = pd.DataFrame({f'importance_permutation_{dataset}_mean': importance_permutation_mean, f'importance_permutation_{dataset}_std': importance_permutation_std})\n",
    "            dfp_importance_permutation['icolX'] = dfp_importance_permutation.index\n",
    "            dfp_importance_permutation[f'importance_permutation_{dataset}_pct'] = dfp_importance_permutation[f'importance_permutation_{dataset}_mean'].rank(pct=True)\n",
    "            dfp_importance = pd.merge(dfp_importance, dfp_importance_permutation, on='icolX', how='left')\n",
    "\n",
    "    # for LR models\n",
    "    # dfp_coef = pd.DataFrame({'coefficients': model.coef_[0]})\n",
    "    # dfp_coef['abs_coeff'] = dfp_coef['coefficients'].abs()\n",
    "    # dfp_coef['icolX'] = dfp_coef.index\n",
    "    # dfp_importance = pd.merge(dfp_importance, dfp_coef, on='icolX', how='left')\n",
    "\n",
    "    # TODO\n",
    "    # Gini impurity importance - a mean decrease in impurity (MDI) importance (both RF and BDT)\n",
    "    # https://scikit-learn.org/stable/modules/generated/sklearn.ensemble.RandomForestClassifier.html#sklearn.ensemble.RandomForestClassifier.feature_importances_\n",
    "    # importances_gini = model.feature_importances_\n",
    "    # estimators = model.estimators_\n",
    "    # importances_gini_std = np.std([tree.feature_importances_ for tree in estimators], axis=0)\n",
    "    # dfp_importance_gini = pd.DataFrame({'importance_gini': importances_gini, 'importance_gini_std': importances_gini_std})\n",
    "    # dfp_importance_gini['icolX'] = dfp_importance_gini.index\n",
    "    # dfp_importance_gini['importance_gini_pct'] = dfp_importance_gini['importance_gini'].rank(pct=True)\n",
    "    # dfp_importance = pd.merge(dfp_importance, dfp_importance_gini, on='icolX', how='left')\n",
    "\n",
    "    target_cols_importance = [\n",
    "        'feature',\n",
    "        # 'coefficients',\n",
    "        'importance_permutation_holdout_mean',\n",
    "        'importance_permutation_holdout_std',\n",
    "        'importance_permutation_holdout_pct',\n",
    "        'importance_permutation_train_mean',\n",
    "        'importance_permutation_train_std',\n",
    "        'importance_permutation_train_pct',\n",
    "        # 'importance_gini',\n",
    "        # 'importance_gini_std',\n",
    "        # 'importance_gini_pct',\n",
    "        'icolX',\n",
    "        # 'abs_coeff',\n",
    "    ]\n",
    "    _cols = [_col for _col in target_cols_importance if _col in dfp_importance.columns] + [_col for _col in dfp_importance.columns if _col not in target_cols_importance]\n",
    "    dfp_importance = dfp_importance[_cols]\n",
    "    if 'importance_permutation_holdout_mean' in dfp_importance.columns:\n",
    "        sort_col = 'importance_permutation_holdout_mean'\n",
    "    elif 'importance_gini' in dfp_importance.columns:\n",
    "        sort_col = 'importance_gini'\n",
    "    else:\n",
    "        sort_col = 'icolX'\n",
    "    dfp_importance = dfp_importance.sort_values(by=sort_col, ascending=False).reset_index(drop=True)\n",
    "\n",
    "    dfp_importance = dfp_importance.drop(['icolX'], axis=1)\n",
    "    # if 'abs_coeff' in dfp_importance.columns:\n",
    "    #     dfp_importance = dfp_importance.drop(['abs_coeff'], axis=1)\n",
    "\n",
    "    model_metrics['dfp_importance'] = dfp_importance\n",
    "\n",
    "    return model_metrics"
   ]
  },
  {
   "cell_type": "markdown",
   "metadata": {
    "incorrectly_encoded_metadata": "tags=[] jp-MarkdownHeadingCollapsed=true tags=[] jp-MarkdownHeadingCollapsed=true",
    "tags": []
   },
   "source": [
    "## Metrics"
   ]
  },
  {
   "cell_type": "code",
   "execution_count": 23,
   "metadata": {},
   "outputs": [
    {
     "data": {
      "text/html": [
       "<div>\n",
       "<style scoped>\n",
       "    .dataframe tbody tr th:only-of-type {\n",
       "        vertical-align: middle;\n",
       "    }\n",
       "\n",
       "    .dataframe tbody tr th {\n",
       "        vertical-align: top;\n",
       "    }\n",
       "\n",
       "    .dataframe thead th {\n",
       "        text-align: right;\n",
       "    }\n",
       "</style>\n",
       "<table border=\"1\" class=\"dataframe\">\n",
       "  <thead>\n",
       "    <tr style=\"text-align: right;\">\n",
       "      <th></th>\n",
       "      <th>model</th>\n",
       "      <th>dataset</th>\n",
       "      <th>accuracy_score</th>\n",
       "      <th>precision_score</th>\n",
       "      <th>recall_score</th>\n",
       "      <th>f1_score</th>\n",
       "      <th>roc_auc_score</th>\n",
       "      <th>average_precision_score</th>\n",
       "      <th>log_loss</th>\n",
       "      <th>cohen_kappa_score</th>\n",
       "      <th>TN</th>\n",
       "      <th>FP</th>\n",
       "      <th>FN</th>\n",
       "      <th>TP</th>\n",
       "      <th>TNR</th>\n",
       "      <th>NPV</th>\n",
       "      <th>pop_PPV</th>\n",
       "    </tr>\n",
       "  </thead>\n",
       "  <tbody>\n",
       "    <tr>\n",
       "      <th>0</th>\n",
       "      <td>FIGS</td>\n",
       "      <td>holdout</td>\n",
       "      <td>0.898067</td>\n",
       "      <td>0.712491</td>\n",
       "      <td>0.477549</td>\n",
       "      <td>0.571829</td>\n",
       "      <td>0.911709</td>\n",
       "      <td>0.634618</td>\n",
       "      <td>3.520675</td>\n",
       "      <td>0.516522</td>\n",
       "      <td>12450</td>\n",
       "      <td>412</td>\n",
       "      <td>1117</td>\n",
       "      <td>1021</td>\n",
       "      <td>0.967968</td>\n",
       "      <td>0.917668</td>\n",
       "      <td>0.142533</td>\n",
       "    </tr>\n",
       "    <tr>\n",
       "      <th>1</th>\n",
       "      <td>FIGS</td>\n",
       "      <td>train</td>\n",
       "      <td>0.901729</td>\n",
       "      <td>0.733416</td>\n",
       "      <td>0.488117</td>\n",
       "      <td>0.586137</td>\n",
       "      <td>0.914569</td>\n",
       "      <td>0.650357</td>\n",
       "      <td>3.394166</td>\n",
       "      <td>0.532920</td>\n",
       "      <td>70732</td>\n",
       "      <td>2150</td>\n",
       "      <td>6203</td>\n",
       "      <td>5915</td>\n",
       "      <td>0.970500</td>\n",
       "      <td>0.919373</td>\n",
       "      <td>0.142565</td>\n",
       "    </tr>\n",
       "    <tr>\n",
       "      <th>2</th>\n",
       "      <td>XGBoost</td>\n",
       "      <td>holdout</td>\n",
       "      <td>0.946467</td>\n",
       "      <td>0.845676</td>\n",
       "      <td>0.763798</td>\n",
       "      <td>0.802654</td>\n",
       "      <td>0.974239</td>\n",
       "      <td>0.844879</td>\n",
       "      <td>1.848992</td>\n",
       "      <td>0.771780</td>\n",
       "      <td>12564</td>\n",
       "      <td>298</td>\n",
       "      <td>505</td>\n",
       "      <td>1633</td>\n",
       "      <td>0.976831</td>\n",
       "      <td>0.961359</td>\n",
       "      <td>0.142533</td>\n",
       "    </tr>\n",
       "    <tr>\n",
       "      <th>3</th>\n",
       "      <td>XGBoost</td>\n",
       "      <td>train</td>\n",
       "      <td>0.968147</td>\n",
       "      <td>0.904470</td>\n",
       "      <td>0.868269</td>\n",
       "      <td>0.886000</td>\n",
       "      <td>0.990188</td>\n",
       "      <td>0.946239</td>\n",
       "      <td>1.100172</td>\n",
       "      <td>0.867496</td>\n",
       "      <td>57417</td>\n",
       "      <td>889</td>\n",
       "      <td>1277</td>\n",
       "      <td>8417</td>\n",
       "      <td>0.984753</td>\n",
       "      <td>0.978243</td>\n",
       "      <td>0.142559</td>\n",
       "    </tr>\n",
       "  </tbody>\n",
       "</table>\n",
       "</div>"
      ],
      "text/plain": [
       "     model  dataset  accuracy_score  precision_score  recall_score  f1_score  \\\n",
       "0     FIGS  holdout        0.898067         0.712491      0.477549  0.571829   \n",
       "1     FIGS    train        0.901729         0.733416      0.488117  0.586137   \n",
       "2  XGBoost  holdout        0.946467         0.845676      0.763798  0.802654   \n",
       "3  XGBoost    train        0.968147         0.904470      0.868269  0.886000   \n",
       "\n",
       "   roc_auc_score  average_precision_score  log_loss  cohen_kappa_score     TN  \\\n",
       "0       0.911709                 0.634618  3.520675           0.516522  12450   \n",
       "1       0.914569                 0.650357  3.394166           0.532920  70732   \n",
       "2       0.974239                 0.844879  1.848992           0.771780  12564   \n",
       "3       0.990188                 0.946239  1.100172           0.867496  57417   \n",
       "\n",
       "     FP    FN    TP       TNR       NPV   pop_PPV  \n",
       "0   412  1117  1021  0.967968  0.917668  0.142533  \n",
       "1  2150  6203  5915  0.970500  0.919373  0.142565  \n",
       "2   298   505  1633  0.976831  0.961359  0.142533  \n",
       "3   889  1277  8417  0.984753  0.978243  0.142559  "
      ]
     },
     "metadata": {},
     "output_type": "display_data"
    }
   ],
   "source": [
    "model_metrics_figs = classifier_metrics(model_figs, 'FIGS', X_trainVal, y_trainVal, X_holdout, y_holdout, feat_names)\n",
    "model_metrics_xgboost = classifier_metrics(model_xgboost, 'XGBoost', X_train, y_train, X_holdout, y_holdout, feat_names)\n",
    "\n",
    "metric_rows = []\n",
    "for model_metrics in [model_metrics_figs, model_metrics_xgboost]:\n",
    "    roc_entries = []\n",
    "    for idataset,dataset in enumerate(datasets[::-1]):\n",
    "        dataset_metrics = {'model': model_metrics['nname'], 'dataset': dataset}\n",
    "        for k,v in model_metrics[dataset].items():\n",
    "            if k == 'roc_entry':\n",
    "                if 0 < len(roc_entries):\n",
    "                    v['name'] = dataset\n",
    "                roc_entries.append(v)\n",
    "            elif k not in ['confusion_matrix', 'dfp_eval_fpr_tpr', 'dfp_eval_precision_recall', 'dfp_y']:\n",
    "                dataset_metrics[k] = v\n",
    "        metric_rows.append(dataset_metrics)\n",
    "\n",
    "    plot_rocs(roc_entries, m_path=f'{output}/roc_curves', rndGuess=False, inverse_log=False, inline=False)\n",
    "    plot_rocs(roc_entries, m_path=f'{output}/roc_curves', rndGuess=False, inverse_log=False, precision_recall=True,\n",
    "              pop_PPV=model_metrics['holdout']['pop_PPV'], y_axis_params={'min': -0.05}, inline=False)\n",
    "\n",
    "dfp_metrics = pd.DataFrame(metric_rows)\n",
    "dfp_metrics = dfp_metrics.sort_values(by=['model', 'dataset'], ascending=[True, True]).reset_index(drop=True)\n",
    "display(dfp_metrics)"
   ]
  },
  {
   "cell_type": "code",
   "execution_count": 24,
   "metadata": {},
   "outputs": [
    {
     "name": "stdout",
     "output_type": "stream",
     "text": [
      "XGBoost used 2,767 splits vs FIGS 20\n",
      "That is 2,747, or 13,735%, more splits!\n"
     ]
    }
   ],
   "source": [
    "print(f'XGBoost used {n_splits_xgboost:,} splits vs FIGS {n_splits_figs:,}')\n",
    "print(f'That is {n_splits_xgboost-n_splits_figs:,}, or {(n_splits_xgboost-n_splits_figs)/n_splits_figs:,.0%}, more splits!')"
   ]
  },
  {
   "cell_type": "markdown",
   "metadata": {
    "incorrectly_encoded_metadata": "tags=[] jp-MarkdownHeadingCollapsed=true tags=[] jp-MarkdownHeadingCollapsed=true",
    "tags": []
   },
   "source": [
    "## Feature Importances"
   ]
  },
  {
   "cell_type": "code",
   "execution_count": 25,
   "metadata": {
    "tags": []
   },
   "outputs": [
    {
     "name": "stdout",
     "output_type": "stream",
     "text": [
      "FIGS Feature Importances\n"
     ]
    },
    {
     "data": {
      "text/html": [
       "<div>\n",
       "<style scoped>\n",
       "    .dataframe tbody tr th:only-of-type {\n",
       "        vertical-align: middle;\n",
       "    }\n",
       "\n",
       "    .dataframe tbody tr th {\n",
       "        vertical-align: top;\n",
       "    }\n",
       "\n",
       "    .dataframe thead th {\n",
       "        text-align: right;\n",
       "    }\n",
       "</style>\n",
       "<table border=\"1\" class=\"dataframe\">\n",
       "  <thead>\n",
       "    <tr style=\"text-align: right;\">\n",
       "      <th></th>\n",
       "      <th>feature</th>\n",
       "      <th>importance_permutation_holdout_mean</th>\n",
       "      <th>importance_permutation_holdout_std</th>\n",
       "      <th>importance_permutation_holdout_pct</th>\n",
       "      <th>importance_permutation_train_mean</th>\n",
       "      <th>importance_permutation_train_std</th>\n",
       "      <th>importance_permutation_train_pct</th>\n",
       "    </tr>\n",
       "  </thead>\n",
       "  <tbody>\n",
       "    <tr>\n",
       "      <th>0</th>\n",
       "      <td>x_2_1</td>\n",
       "      <td>0.281633</td>\n",
       "      <td>0.005927</td>\n",
       "      <td>1.000000</td>\n",
       "      <td>0.283036</td>\n",
       "      <td>0.001755</td>\n",
       "      <td>1.000000</td>\n",
       "    </tr>\n",
       "    <tr>\n",
       "      <th>1</th>\n",
       "      <td>x_1_4</td>\n",
       "      <td>0.026162</td>\n",
       "      <td>0.002426</td>\n",
       "      <td>0.971429</td>\n",
       "      <td>0.029008</td>\n",
       "      <td>0.000799</td>\n",
       "      <td>0.942857</td>\n",
       "    </tr>\n",
       "    <tr>\n",
       "      <th>2</th>\n",
       "      <td>x_2_0</td>\n",
       "      <td>0.026032</td>\n",
       "      <td>0.001159</td>\n",
       "      <td>0.942857</td>\n",
       "      <td>0.029866</td>\n",
       "      <td>0.000498</td>\n",
       "      <td>0.971429</td>\n",
       "    </tr>\n",
       "    <tr>\n",
       "      <th>3</th>\n",
       "      <td>x_0_2</td>\n",
       "      <td>0.024550</td>\n",
       "      <td>0.001272</td>\n",
       "      <td>0.914286</td>\n",
       "      <td>0.023949</td>\n",
       "      <td>0.000588</td>\n",
       "      <td>0.914286</td>\n",
       "    </tr>\n",
       "    <tr>\n",
       "      <th>4</th>\n",
       "      <td>x_1_3</td>\n",
       "      <td>0.020139</td>\n",
       "      <td>0.001193</td>\n",
       "      <td>0.885714</td>\n",
       "      <td>0.018275</td>\n",
       "      <td>0.000573</td>\n",
       "      <td>0.857143</td>\n",
       "    </tr>\n",
       "    <tr>\n",
       "      <th>5</th>\n",
       "      <td>x_0_8</td>\n",
       "      <td>0.019467</td>\n",
       "      <td>0.001028</td>\n",
       "      <td>0.857143</td>\n",
       "      <td>0.022575</td>\n",
       "      <td>0.000350</td>\n",
       "      <td>0.885714</td>\n",
       "    </tr>\n",
       "    <tr>\n",
       "      <th>6</th>\n",
       "      <td>x_0_3</td>\n",
       "      <td>0.014895</td>\n",
       "      <td>0.001420</td>\n",
       "      <td>0.828571</td>\n",
       "      <td>0.014720</td>\n",
       "      <td>0.000550</td>\n",
       "      <td>0.800000</td>\n",
       "    </tr>\n",
       "    <tr>\n",
       "      <th>7</th>\n",
       "      <td>x_0_7</td>\n",
       "      <td>0.013435</td>\n",
       "      <td>0.000675</td>\n",
       "      <td>0.800000</td>\n",
       "      <td>0.015834</td>\n",
       "      <td>0.000490</td>\n",
       "      <td>0.828571</td>\n",
       "    </tr>\n",
       "    <tr>\n",
       "      <th>8</th>\n",
       "      <td>x_1_5</td>\n",
       "      <td>0.008601</td>\n",
       "      <td>0.000907</td>\n",
       "      <td>0.771429</td>\n",
       "      <td>0.007197</td>\n",
       "      <td>0.000228</td>\n",
       "      <td>0.742857</td>\n",
       "    </tr>\n",
       "    <tr>\n",
       "      <th>9</th>\n",
       "      <td>x_1_0</td>\n",
       "      <td>0.007383</td>\n",
       "      <td>0.000489</td>\n",
       "      <td>0.742857</td>\n",
       "      <td>0.008384</td>\n",
       "      <td>0.000237</td>\n",
       "      <td>0.771429</td>\n",
       "    </tr>\n",
       "    <tr>\n",
       "      <th>10</th>\n",
       "      <td>x_0_0</td>\n",
       "      <td>0.004723</td>\n",
       "      <td>0.000647</td>\n",
       "      <td>0.714286</td>\n",
       "      <td>0.005603</td>\n",
       "      <td>0.000208</td>\n",
       "      <td>0.714286</td>\n",
       "    </tr>\n",
       "    <tr>\n",
       "      <th>11</th>\n",
       "      <td>x_0_5</td>\n",
       "      <td>0.002835</td>\n",
       "      <td>0.000406</td>\n",
       "      <td>0.685714</td>\n",
       "      <td>0.003067</td>\n",
       "      <td>0.000109</td>\n",
       "      <td>0.685714</td>\n",
       "    </tr>\n",
       "    <tr>\n",
       "      <th>12</th>\n",
       "      <td>x_1_2</td>\n",
       "      <td>0.002199</td>\n",
       "      <td>0.000611</td>\n",
       "      <td>0.657143</td>\n",
       "      <td>0.003011</td>\n",
       "      <td>0.000198</td>\n",
       "      <td>0.657143</td>\n",
       "    </tr>\n",
       "    <tr>\n",
       "      <th>13</th>\n",
       "      <td>x_1_1</td>\n",
       "      <td>0.002138</td>\n",
       "      <td>0.000260</td>\n",
       "      <td>0.628571</td>\n",
       "      <td>0.001666</td>\n",
       "      <td>0.000114</td>\n",
       "      <td>0.628571</td>\n",
       "    </tr>\n",
       "  </tbody>\n",
       "</table>\n",
       "</div>"
      ],
      "text/plain": [
       "   feature  importance_permutation_holdout_mean  \\\n",
       "0    x_2_1                             0.281633   \n",
       "1    x_1_4                             0.026162   \n",
       "2    x_2_0                             0.026032   \n",
       "3    x_0_2                             0.024550   \n",
       "4    x_1_3                             0.020139   \n",
       "5    x_0_8                             0.019467   \n",
       "6    x_0_3                             0.014895   \n",
       "7    x_0_7                             0.013435   \n",
       "8    x_1_5                             0.008601   \n",
       "9    x_1_0                             0.007383   \n",
       "10   x_0_0                             0.004723   \n",
       "11   x_0_5                             0.002835   \n",
       "12   x_1_2                             0.002199   \n",
       "13   x_1_1                             0.002138   \n",
       "\n",
       "    importance_permutation_holdout_std  importance_permutation_holdout_pct  \\\n",
       "0                             0.005927                            1.000000   \n",
       "1                             0.002426                            0.971429   \n",
       "2                             0.001159                            0.942857   \n",
       "3                             0.001272                            0.914286   \n",
       "4                             0.001193                            0.885714   \n",
       "5                             0.001028                            0.857143   \n",
       "6                             0.001420                            0.828571   \n",
       "7                             0.000675                            0.800000   \n",
       "8                             0.000907                            0.771429   \n",
       "9                             0.000489                            0.742857   \n",
       "10                            0.000647                            0.714286   \n",
       "11                            0.000406                            0.685714   \n",
       "12                            0.000611                            0.657143   \n",
       "13                            0.000260                            0.628571   \n",
       "\n",
       "    importance_permutation_train_mean  importance_permutation_train_std  \\\n",
       "0                            0.283036                          0.001755   \n",
       "1                            0.029008                          0.000799   \n",
       "2                            0.029866                          0.000498   \n",
       "3                            0.023949                          0.000588   \n",
       "4                            0.018275                          0.000573   \n",
       "5                            0.022575                          0.000350   \n",
       "6                            0.014720                          0.000550   \n",
       "7                            0.015834                          0.000490   \n",
       "8                            0.007197                          0.000228   \n",
       "9                            0.008384                          0.000237   \n",
       "10                           0.005603                          0.000208   \n",
       "11                           0.003067                          0.000109   \n",
       "12                           0.003011                          0.000198   \n",
       "13                           0.001666                          0.000114   \n",
       "\n",
       "    importance_permutation_train_pct  \n",
       "0                           1.000000  \n",
       "1                           0.942857  \n",
       "2                           0.971429  \n",
       "3                           0.914286  \n",
       "4                           0.857143  \n",
       "5                           0.885714  \n",
       "6                           0.800000  \n",
       "7                           0.828571  \n",
       "8                           0.742857  \n",
       "9                           0.771429  \n",
       "10                          0.714286  \n",
       "11                          0.685714  \n",
       "12                          0.657143  \n",
       "13                          0.628571  "
      ]
     },
     "metadata": {},
     "output_type": "display_data"
    }
   ],
   "source": [
    "print('FIGS Feature Importances')\n",
    "_dfp = model_metrics_figs['dfp_importance']\n",
    "display(_dfp.loc[0 < _dfp['importance_permutation_holdout_mean']])"
   ]
  },
  {
   "cell_type": "code",
   "execution_count": 26,
   "metadata": {
    "tags": []
   },
   "outputs": [
    {
     "name": "stdout",
     "output_type": "stream",
     "text": [
      "XGBoost Feature Importances\n"
     ]
    },
    {
     "data": {
      "text/html": [
       "<div>\n",
       "<style scoped>\n",
       "    .dataframe tbody tr th:only-of-type {\n",
       "        vertical-align: middle;\n",
       "    }\n",
       "\n",
       "    .dataframe tbody tr th {\n",
       "        vertical-align: top;\n",
       "    }\n",
       "\n",
       "    .dataframe thead th {\n",
       "        text-align: right;\n",
       "    }\n",
       "</style>\n",
       "<table border=\"1\" class=\"dataframe\">\n",
       "  <thead>\n",
       "    <tr style=\"text-align: right;\">\n",
       "      <th></th>\n",
       "      <th>feature</th>\n",
       "      <th>importance_permutation_holdout_mean</th>\n",
       "      <th>importance_permutation_holdout_std</th>\n",
       "      <th>importance_permutation_holdout_pct</th>\n",
       "      <th>importance_permutation_train_mean</th>\n",
       "      <th>importance_permutation_train_std</th>\n",
       "      <th>importance_permutation_train_pct</th>\n",
       "    </tr>\n",
       "  </thead>\n",
       "  <tbody>\n",
       "    <tr>\n",
       "      <th>0</th>\n",
       "      <td>x_2_1</td>\n",
       "      <td>0.242568</td>\n",
       "      <td>0.004872</td>\n",
       "      <td>1.000000</td>\n",
       "      <td>0.234184</td>\n",
       "      <td>0.002396</td>\n",
       "      <td>1.000000</td>\n",
       "    </tr>\n",
       "    <tr>\n",
       "      <th>1</th>\n",
       "      <td>x_2_0</td>\n",
       "      <td>0.041755</td>\n",
       "      <td>0.001616</td>\n",
       "      <td>0.971429</td>\n",
       "      <td>0.038610</td>\n",
       "      <td>0.000565</td>\n",
       "      <td>0.971429</td>\n",
       "    </tr>\n",
       "    <tr>\n",
       "      <th>2</th>\n",
       "      <td>x_0_5</td>\n",
       "      <td>0.018473</td>\n",
       "      <td>0.000677</td>\n",
       "      <td>0.942857</td>\n",
       "      <td>0.015805</td>\n",
       "      <td>0.000181</td>\n",
       "      <td>0.942857</td>\n",
       "    </tr>\n",
       "    <tr>\n",
       "      <th>3</th>\n",
       "      <td>x_1_4</td>\n",
       "      <td>0.015454</td>\n",
       "      <td>0.001070</td>\n",
       "      <td>0.914286</td>\n",
       "      <td>0.013442</td>\n",
       "      <td>0.000286</td>\n",
       "      <td>0.914286</td>\n",
       "    </tr>\n",
       "    <tr>\n",
       "      <th>4</th>\n",
       "      <td>x_0_3</td>\n",
       "      <td>0.015285</td>\n",
       "      <td>0.000694</td>\n",
       "      <td>0.885714</td>\n",
       "      <td>0.013131</td>\n",
       "      <td>0.000385</td>\n",
       "      <td>0.857143</td>\n",
       "    </tr>\n",
       "    <tr>\n",
       "      <th>5</th>\n",
       "      <td>x_0_2</td>\n",
       "      <td>0.014121</td>\n",
       "      <td>0.000381</td>\n",
       "      <td>0.857143</td>\n",
       "      <td>0.013272</td>\n",
       "      <td>0.000307</td>\n",
       "      <td>0.885714</td>\n",
       "    </tr>\n",
       "    <tr>\n",
       "      <th>6</th>\n",
       "      <td>x_0_4</td>\n",
       "      <td>0.009607</td>\n",
       "      <td>0.000705</td>\n",
       "      <td>0.828571</td>\n",
       "      <td>0.009007</td>\n",
       "      <td>0.000238</td>\n",
       "      <td>0.828571</td>\n",
       "    </tr>\n",
       "    <tr>\n",
       "      <th>7</th>\n",
       "      <td>x_1_3</td>\n",
       "      <td>0.007532</td>\n",
       "      <td>0.000530</td>\n",
       "      <td>0.800000</td>\n",
       "      <td>0.005411</td>\n",
       "      <td>0.000126</td>\n",
       "      <td>0.771429</td>\n",
       "    </tr>\n",
       "    <tr>\n",
       "      <th>8</th>\n",
       "      <td>x_1_5</td>\n",
       "      <td>0.006877</td>\n",
       "      <td>0.000311</td>\n",
       "      <td>0.771429</td>\n",
       "      <td>0.004939</td>\n",
       "      <td>0.000151</td>\n",
       "      <td>0.742857</td>\n",
       "    </tr>\n",
       "    <tr>\n",
       "      <th>9</th>\n",
       "      <td>x_0_8</td>\n",
       "      <td>0.005486</td>\n",
       "      <td>0.000396</td>\n",
       "      <td>0.742857</td>\n",
       "      <td>0.005837</td>\n",
       "      <td>0.000167</td>\n",
       "      <td>0.800000</td>\n",
       "    </tr>\n",
       "    <tr>\n",
       "      <th>10</th>\n",
       "      <td>x_1_0</td>\n",
       "      <td>0.005371</td>\n",
       "      <td>0.000497</td>\n",
       "      <td>0.714286</td>\n",
       "      <td>0.004837</td>\n",
       "      <td>0.000110</td>\n",
       "      <td>0.714286</td>\n",
       "    </tr>\n",
       "    <tr>\n",
       "      <th>11</th>\n",
       "      <td>x_1_1</td>\n",
       "      <td>0.005168</td>\n",
       "      <td>0.000250</td>\n",
       "      <td>0.685714</td>\n",
       "      <td>0.003612</td>\n",
       "      <td>0.000097</td>\n",
       "      <td>0.685714</td>\n",
       "    </tr>\n",
       "    <tr>\n",
       "      <th>12</th>\n",
       "      <td>x_0_1</td>\n",
       "      <td>0.003444</td>\n",
       "      <td>0.000395</td>\n",
       "      <td>0.657143</td>\n",
       "      <td>0.003306</td>\n",
       "      <td>0.000082</td>\n",
       "      <td>0.657143</td>\n",
       "    </tr>\n",
       "    <tr>\n",
       "      <th>13</th>\n",
       "      <td>x_1_2</td>\n",
       "      <td>0.003442</td>\n",
       "      <td>0.000324</td>\n",
       "      <td>0.628571</td>\n",
       "      <td>0.002383</td>\n",
       "      <td>0.000100</td>\n",
       "      <td>0.600000</td>\n",
       "    </tr>\n",
       "    <tr>\n",
       "      <th>14</th>\n",
       "      <td>x_0_7</td>\n",
       "      <td>0.003063</td>\n",
       "      <td>0.000347</td>\n",
       "      <td>0.600000</td>\n",
       "      <td>0.002992</td>\n",
       "      <td>0.000135</td>\n",
       "      <td>0.628571</td>\n",
       "    </tr>\n",
       "    <tr>\n",
       "      <th>15</th>\n",
       "      <td>x_0_0</td>\n",
       "      <td>0.002395</td>\n",
       "      <td>0.000263</td>\n",
       "      <td>0.571429</td>\n",
       "      <td>0.002379</td>\n",
       "      <td>0.000123</td>\n",
       "      <td>0.571429</td>\n",
       "    </tr>\n",
       "    <tr>\n",
       "      <th>16</th>\n",
       "      <td>x_0_6</td>\n",
       "      <td>0.001672</td>\n",
       "      <td>0.000133</td>\n",
       "      <td>0.542857</td>\n",
       "      <td>0.001782</td>\n",
       "      <td>0.000063</td>\n",
       "      <td>0.542857</td>\n",
       "    </tr>\n",
       "    <tr>\n",
       "      <th>17</th>\n",
       "      <td>x_0_9</td>\n",
       "      <td>0.001255</td>\n",
       "      <td>0.000194</td>\n",
       "      <td>0.514286</td>\n",
       "      <td>0.001440</td>\n",
       "      <td>0.000042</td>\n",
       "      <td>0.514286</td>\n",
       "    </tr>\n",
       "    <tr>\n",
       "      <th>18</th>\n",
       "      <td>x_2_3</td>\n",
       "      <td>0.000228</td>\n",
       "      <td>0.000112</td>\n",
       "      <td>0.485714</td>\n",
       "      <td>0.000621</td>\n",
       "      <td>0.000034</td>\n",
       "      <td>0.285714</td>\n",
       "    </tr>\n",
       "    <tr>\n",
       "      <th>19</th>\n",
       "      <td>x_2_2</td>\n",
       "      <td>0.000224</td>\n",
       "      <td>0.000139</td>\n",
       "      <td>0.457143</td>\n",
       "      <td>0.000502</td>\n",
       "      <td>0.000040</td>\n",
       "      <td>0.114286</td>\n",
       "    </tr>\n",
       "    <tr>\n",
       "      <th>20</th>\n",
       "      <td>x_0_14</td>\n",
       "      <td>0.000207</td>\n",
       "      <td>0.000094</td>\n",
       "      <td>0.428571</td>\n",
       "      <td>0.000686</td>\n",
       "      <td>0.000034</td>\n",
       "      <td>0.400000</td>\n",
       "    </tr>\n",
       "    <tr>\n",
       "      <th>21</th>\n",
       "      <td>x_1_8</td>\n",
       "      <td>0.000142</td>\n",
       "      <td>0.000062</td>\n",
       "      <td>0.400000</td>\n",
       "      <td>0.000627</td>\n",
       "      <td>0.000023</td>\n",
       "      <td>0.314286</td>\n",
       "    </tr>\n",
       "    <tr>\n",
       "      <th>22</th>\n",
       "      <td>x_1_7</td>\n",
       "      <td>0.000104</td>\n",
       "      <td>0.000060</td>\n",
       "      <td>0.371429</td>\n",
       "      <td>0.000515</td>\n",
       "      <td>0.000018</td>\n",
       "      <td>0.142857</td>\n",
       "    </tr>\n",
       "    <tr>\n",
       "      <th>23</th>\n",
       "      <td>x_0_17</td>\n",
       "      <td>0.000027</td>\n",
       "      <td>0.000045</td>\n",
       "      <td>0.342857</td>\n",
       "      <td>0.000343</td>\n",
       "      <td>0.000016</td>\n",
       "      <td>0.057143</td>\n",
       "    </tr>\n",
       "    <tr>\n",
       "      <th>24</th>\n",
       "      <td>x_0_19</td>\n",
       "      <td>0.000026</td>\n",
       "      <td>0.000067</td>\n",
       "      <td>0.314286</td>\n",
       "      <td>0.000643</td>\n",
       "      <td>0.000035</td>\n",
       "      <td>0.342857</td>\n",
       "    </tr>\n",
       "    <tr>\n",
       "      <th>25</th>\n",
       "      <td>x_0_12</td>\n",
       "      <td>0.000019</td>\n",
       "      <td>0.000068</td>\n",
       "      <td>0.285714</td>\n",
       "      <td>0.000544</td>\n",
       "      <td>0.000018</td>\n",
       "      <td>0.171429</td>\n",
       "    </tr>\n",
       "    <tr>\n",
       "      <th>26</th>\n",
       "      <td>x_0_15</td>\n",
       "      <td>0.000013</td>\n",
       "      <td>0.000061</td>\n",
       "      <td>0.257143</td>\n",
       "      <td>0.000327</td>\n",
       "      <td>0.000014</td>\n",
       "      <td>0.028571</td>\n",
       "    </tr>\n",
       "  </tbody>\n",
       "</table>\n",
       "</div>"
      ],
      "text/plain": [
       "   feature  importance_permutation_holdout_mean  \\\n",
       "0    x_2_1                             0.242568   \n",
       "1    x_2_0                             0.041755   \n",
       "2    x_0_5                             0.018473   \n",
       "3    x_1_4                             0.015454   \n",
       "4    x_0_3                             0.015285   \n",
       "5    x_0_2                             0.014121   \n",
       "6    x_0_4                             0.009607   \n",
       "7    x_1_3                             0.007532   \n",
       "8    x_1_5                             0.006877   \n",
       "9    x_0_8                             0.005486   \n",
       "10   x_1_0                             0.005371   \n",
       "11   x_1_1                             0.005168   \n",
       "12   x_0_1                             0.003444   \n",
       "13   x_1_2                             0.003442   \n",
       "14   x_0_7                             0.003063   \n",
       "15   x_0_0                             0.002395   \n",
       "16   x_0_6                             0.001672   \n",
       "17   x_0_9                             0.001255   \n",
       "18   x_2_3                             0.000228   \n",
       "19   x_2_2                             0.000224   \n",
       "20  x_0_14                             0.000207   \n",
       "21   x_1_8                             0.000142   \n",
       "22   x_1_7                             0.000104   \n",
       "23  x_0_17                             0.000027   \n",
       "24  x_0_19                             0.000026   \n",
       "25  x_0_12                             0.000019   \n",
       "26  x_0_15                             0.000013   \n",
       "\n",
       "    importance_permutation_holdout_std  importance_permutation_holdout_pct  \\\n",
       "0                             0.004872                            1.000000   \n",
       "1                             0.001616                            0.971429   \n",
       "2                             0.000677                            0.942857   \n",
       "3                             0.001070                            0.914286   \n",
       "4                             0.000694                            0.885714   \n",
       "5                             0.000381                            0.857143   \n",
       "6                             0.000705                            0.828571   \n",
       "7                             0.000530                            0.800000   \n",
       "8                             0.000311                            0.771429   \n",
       "9                             0.000396                            0.742857   \n",
       "10                            0.000497                            0.714286   \n",
       "11                            0.000250                            0.685714   \n",
       "12                            0.000395                            0.657143   \n",
       "13                            0.000324                            0.628571   \n",
       "14                            0.000347                            0.600000   \n",
       "15                            0.000263                            0.571429   \n",
       "16                            0.000133                            0.542857   \n",
       "17                            0.000194                            0.514286   \n",
       "18                            0.000112                            0.485714   \n",
       "19                            0.000139                            0.457143   \n",
       "20                            0.000094                            0.428571   \n",
       "21                            0.000062                            0.400000   \n",
       "22                            0.000060                            0.371429   \n",
       "23                            0.000045                            0.342857   \n",
       "24                            0.000067                            0.314286   \n",
       "25                            0.000068                            0.285714   \n",
       "26                            0.000061                            0.257143   \n",
       "\n",
       "    importance_permutation_train_mean  importance_permutation_train_std  \\\n",
       "0                            0.234184                          0.002396   \n",
       "1                            0.038610                          0.000565   \n",
       "2                            0.015805                          0.000181   \n",
       "3                            0.013442                          0.000286   \n",
       "4                            0.013131                          0.000385   \n",
       "5                            0.013272                          0.000307   \n",
       "6                            0.009007                          0.000238   \n",
       "7                            0.005411                          0.000126   \n",
       "8                            0.004939                          0.000151   \n",
       "9                            0.005837                          0.000167   \n",
       "10                           0.004837                          0.000110   \n",
       "11                           0.003612                          0.000097   \n",
       "12                           0.003306                          0.000082   \n",
       "13                           0.002383                          0.000100   \n",
       "14                           0.002992                          0.000135   \n",
       "15                           0.002379                          0.000123   \n",
       "16                           0.001782                          0.000063   \n",
       "17                           0.001440                          0.000042   \n",
       "18                           0.000621                          0.000034   \n",
       "19                           0.000502                          0.000040   \n",
       "20                           0.000686                          0.000034   \n",
       "21                           0.000627                          0.000023   \n",
       "22                           0.000515                          0.000018   \n",
       "23                           0.000343                          0.000016   \n",
       "24                           0.000643                          0.000035   \n",
       "25                           0.000544                          0.000018   \n",
       "26                           0.000327                          0.000014   \n",
       "\n",
       "    importance_permutation_train_pct  \n",
       "0                           1.000000  \n",
       "1                           0.971429  \n",
       "2                           0.942857  \n",
       "3                           0.914286  \n",
       "4                           0.857143  \n",
       "5                           0.885714  \n",
       "6                           0.828571  \n",
       "7                           0.771429  \n",
       "8                           0.742857  \n",
       "9                           0.800000  \n",
       "10                          0.714286  \n",
       "11                          0.685714  \n",
       "12                          0.657143  \n",
       "13                          0.600000  \n",
       "14                          0.628571  \n",
       "15                          0.571429  \n",
       "16                          0.542857  \n",
       "17                          0.514286  \n",
       "18                          0.285714  \n",
       "19                          0.114286  \n",
       "20                          0.400000  \n",
       "21                          0.314286  \n",
       "22                          0.142857  \n",
       "23                          0.057143  \n",
       "24                          0.342857  \n",
       "25                          0.171429  \n",
       "26                          0.028571  "
      ]
     },
     "metadata": {},
     "output_type": "display_data"
    }
   ],
   "source": [
    "print('XGBoost Feature Importances')\n",
    "_dfp = model_metrics_xgboost['dfp_importance']\n",
    "display(_dfp.loc[0 < _dfp['importance_permutation_holdout_mean']])"
   ]
  },
  {
   "cell_type": "markdown",
   "metadata": {
    "incorrectly_encoded_metadata": "tags=[] jp-MarkdownHeadingCollapsed=true tags=[] jp-MarkdownHeadingCollapsed=true",
    "tags": []
   },
   "source": [
    "## ROC Curves"
   ]
  },
  {
   "cell_type": "code",
   "execution_count": 27,
   "metadata": {},
   "outputs": [
    {
     "data": {
      "image/png": "[encoded data removed]",
      "text/plain": [
       "<wand.image.Image: 0f8f7b1 'PDF' (461x346)>"
      ]
     },
     "metadata": {},
     "output_type": "display_data"
    },
    {
     "data": {
      "image/png": "[encoded data removed]",
      "text/plain": [
       "<wand.image.Image: e771d96 'PDF' (461x346)>"
      ]
     },
     "metadata": {},
     "output_type": "display_data"
    },
    {
     "data": {
      "image/png": "[encoded data removed]",
      "text/plain": [
       "<wand.image.Image: 2624d84 'PDF' (461x346)>"
      ]
     },
     "metadata": {},
     "output_type": "display_data"
    }
   ],
   "source": [
    "for dataset in datasets[::-1]:\n",
    "    roc_entry_figs = model_metrics_figs[dataset]['roc_entry']\n",
    "    roc_entry_figs['c'] = 'C0'\n",
    "    roc_entry_figs['ls'] = '--'\n",
    "    roc_entry_xgboost = model_metrics_xgboost[dataset]['roc_entry']\n",
    "    roc_entry_xgboost['c'] = 'C1'\n",
    "    roc_entry_xgboost['ls'] = ':'\n",
    "\n",
    "    models_for_roc = [roc_entry_figs, roc_entry_xgboost]\n",
    "    plot_rocs(models_for_roc, m_path=f'{output}/roc_curves', rndGuess=False, inverse_log=False, inline=False)\n",
    "    plot_rocs(models_for_roc, m_path=f'{output}/roc_curves', rndGuess=False, inverse_log=False, precision_recall=True,\n",
    "              pop_PPV=model_metrics_figs[dataset]['pop_PPV'], y_axis_params={'min': -0.05}, inline=False)\n",
    "\n",
    "if inline:\n",
    "    for fname in ['roc_figs_holdout_xgboost_holdout', 'roc_figs_holdout_train', 'roc_xgboost_holdout_train']:\n",
    "        img = Image(filename=f'{output}/roc_curves/{fname}.pdf')\n",
    "        display(img)"
   ]
  },
  {
   "cell_type": "markdown",
   "metadata": {
    "jp-MarkdownHeadingCollapsed": true,
    "tags": []
   },
   "source": [
    "***\n",
    "# Tree Plots"
   ]
  },
  {
   "cell_type": "code",
   "execution_count": 28,
   "metadata": {},
   "outputs": [],
   "source": [
    "color_params_tmp = {'classes': mpl_colors, 'hist_bar': 'C0', 'tick_label': 'black', 'legend_edge': None}\n",
    "for _ in ['axis_label', 'title', 'legend_title', 'text', 'arrow', 'node_label', 'tick_label', 'leaf_label', 'wedge', 'text_wedge']:\n",
    "    color_params_tmp[_] = 'black'\n",
    "color_params = {'colors': color_params_tmp}\n",
    "dtreeviz_params = {'colors': color_params['colors'], 'leaf_plot_type': 'barh', 'all_axis_spines': False, 'label_fontsize': 10}"
   ]
  },
  {
   "cell_type": "code",
   "execution_count": 29,
   "metadata": {},
   "outputs": [],
   "source": [
    "x_example = X_train[13]"
   ]
  },
  {
   "cell_type": "code",
   "execution_count": 30,
   "metadata": {},
   "outputs": [
    {
     "data": {
      "text/html": [
       "<div>\n",
       "<style scoped>\n",
       "    .dataframe tbody tr th:only-of-type {\n",
       "        vertical-align: middle;\n",
       "    }\n",
       "\n",
       "    .dataframe tbody tr th {\n",
       "        vertical-align: top;\n",
       "    }\n",
       "\n",
       "    .dataframe thead th {\n",
       "        text-align: right;\n",
       "    }\n",
       "</style>\n",
       "<table border=\"1\" class=\"dataframe\">\n",
       "  <thead>\n",
       "    <tr style=\"text-align: right;\">\n",
       "      <th></th>\n",
       "      <th>x_0_0</th>\n",
       "      <th>x_0_1</th>\n",
       "      <th>x_0_2</th>\n",
       "      <th>x_0_3</th>\n",
       "      <th>x_0_4</th>\n",
       "      <th>x_0_5</th>\n",
       "      <th>x_0_6</th>\n",
       "      <th>x_0_7</th>\n",
       "      <th>x_0_8</th>\n",
       "      <th>x_0_9</th>\n",
       "      <th>...</th>\n",
       "      <th>x_1_5</th>\n",
       "      <th>x_1_6</th>\n",
       "      <th>x_1_7</th>\n",
       "      <th>x_1_8</th>\n",
       "      <th>x_1_9</th>\n",
       "      <th>x_2_0</th>\n",
       "      <th>x_2_1</th>\n",
       "      <th>x_2_2</th>\n",
       "      <th>x_2_3</th>\n",
       "      <th>x_2_4</th>\n",
       "    </tr>\n",
       "  </thead>\n",
       "  <tbody>\n",
       "    <tr>\n",
       "      <th>0</th>\n",
       "      <td>2.442334</td>\n",
       "      <td>-2.469948</td>\n",
       "      <td>0.779209</td>\n",
       "      <td>-0.588849</td>\n",
       "      <td>-0.931177</td>\n",
       "      <td>0.61903</td>\n",
       "      <td>1.465942</td>\n",
       "      <td>5.07889</td>\n",
       "      <td>0.480569</td>\n",
       "      <td>-0.721903</td>\n",
       "      <td>...</td>\n",
       "      <td>-0.917709</td>\n",
       "      <td>0.858035</td>\n",
       "      <td>0.191662</td>\n",
       "      <td>0.747331</td>\n",
       "      <td>0.803049</td>\n",
       "      <td>-0.919831</td>\n",
       "      <td>-1.064932</td>\n",
       "      <td>-1.603046</td>\n",
       "      <td>0.619863</td>\n",
       "      <td>-0.300449</td>\n",
       "    </tr>\n",
       "  </tbody>\n",
       "</table>\n",
       "<p>1 rows × 35 columns</p>\n",
       "</div>"
      ],
      "text/plain": [
       "      x_0_0     x_0_1     x_0_2     x_0_3     x_0_4    x_0_5     x_0_6  \\\n",
       "0  2.442334 -2.469948  0.779209 -0.588849 -0.931177  0.61903  1.465942   \n",
       "\n",
       "     x_0_7     x_0_8     x_0_9  ...     x_1_5     x_1_6     x_1_7     x_1_8  \\\n",
       "0  5.07889  0.480569 -0.721903  ... -0.917709  0.858035  0.191662  0.747331   \n",
       "\n",
       "      x_1_9     x_2_0     x_2_1     x_2_2     x_2_3     x_2_4  \n",
       "0  0.803049 -0.919831 -1.064932 -1.603046  0.619863 -0.300449  \n",
       "\n",
       "[1 rows x 35 columns]"
      ]
     },
     "execution_count": 30,
     "metadata": {},
     "output_type": "execute_result"
    }
   ],
   "source": [
    "pd.DataFrame([{col: value for col,value in zip(feat_names, x_example)}])"
   ]
  },
  {
   "cell_type": "markdown",
   "metadata": {
    "tags": []
   },
   "source": [
    "## FIGS"
   ]
  },
  {
   "cell_type": "code",
   "execution_count": 31,
   "metadata": {},
   "outputs": [],
   "source": [
    "dt_figs_0 = extract_sklearn_tree_from_figs(model_figs, tree_num=0, n_classes=2)\n",
    "shadow_figs_0 = ShadowSKDTree(dt_figs_0, X_train, y_train, feat_names, 'y', [0, 1])\n",
    "\n",
    "dt_figs_1 = extract_sklearn_tree_from_figs(model_figs, tree_num=1, n_classes=2)\n",
    "shadow_figs_1 = ShadowSKDTree(dt_figs_1, X_train, y_train, feat_names, 'y', [0, 1])"
   ]
  },
  {
   "cell_type": "markdown",
   "metadata": {
    "tags": []
   },
   "source": [
    "### Trees"
   ]
  },
  {
   "cell_type": "markdown",
   "metadata": {
    "incorrectly_encoded_metadata": "tags=[] jp-MarkdownHeadingCollapsed=true",
    "tags": []
   },
   "source": [
    "#### Split Hists"
   ]
  },
  {
   "cell_type": "code",
   "execution_count": 32,
   "metadata": {},
   "outputs": [],
   "source": [
    "viz = trees.dtreeviz(shadow_figs_0, **dtreeviz_params)\n",
    "save_dtreeviz(viz, output, 'dtreeviz_figs_0')"
   ]
  },
  {
   "cell_type": "code",
   "execution_count": 33,
   "metadata": {},
   "outputs": [],
   "source": [
    "viz = trees.dtreeviz(shadow_figs_1, **dtreeviz_params)\n",
    "save_dtreeviz(viz, output, 'dtreeviz_figs_1')"
   ]
  },
  {
   "cell_type": "markdown",
   "metadata": {
    "incorrectly_encoded_metadata": "tags=[] jp-MarkdownHeadingCollapsed=true",
    "tags": []
   },
   "source": [
    "#### Text"
   ]
  },
  {
   "cell_type": "code",
   "execution_count": 34,
   "metadata": {},
   "outputs": [],
   "source": [
    "viz = trees.dtreeviz(shadow_figs_0, **dtreeviz_params, fancy=False, show_node_labels=True)\n",
    "save_dtreeviz(viz, output, 'dtreeviz_text_figs_0')"
   ]
  },
  {
   "cell_type": "code",
   "execution_count": 35,
   "metadata": {},
   "outputs": [],
   "source": [
    "viz = trees.dtreeviz(shadow_figs_1, **dtreeviz_params, fancy=False, show_node_labels=True)\n",
    "save_dtreeviz(viz, output, 'dtreeviz_text_figs_1')"
   ]
  },
  {
   "cell_type": "markdown",
   "metadata": {
    "incorrectly_encoded_metadata": "tags=[] jp-MarkdownHeadingCollapsed=true",
    "tags": []
   },
   "source": [
    "### Prediction Path"
   ]
  },
  {
   "cell_type": "code",
   "execution_count": 36,
   "metadata": {},
   "outputs": [
    {
     "name": "stdout",
     "output_type": "stream",
     "text": [
      "0.02 <= x_1_4 \n",
      "x_2_0 < -0.61\n",
      "x_2_1 < 0.05\n",
      "\n"
     ]
    }
   ],
   "source": [
    "print(trees.explain_prediction_path(shadow_figs_0, x=x_example, explanation_type='plain_english'))"
   ]
  },
  {
   "cell_type": "code",
   "execution_count": 37,
   "metadata": {},
   "outputs": [],
   "source": [
    "viz = trees.dtreeviz(shadow_figs_0, **dtreeviz_params, X=x_example)\n",
    "save_dtreeviz(viz, output, 'dtreeviz_pred_path_figs_0')"
   ]
  },
  {
   "cell_type": "code",
   "execution_count": 38,
   "metadata": {},
   "outputs": [
    {
     "name": "stdout",
     "output_type": "stream",
     "text": [
      "-0.43 <= x_0_2 \n",
      "x_0_3 < 0.46\n",
      "\n"
     ]
    }
   ],
   "source": [
    "print(trees.explain_prediction_path(shadow_figs_1, x=x_example, explanation_type='plain_english'))"
   ]
  },
  {
   "cell_type": "code",
   "execution_count": 39,
   "metadata": {},
   "outputs": [],
   "source": [
    "viz = trees.dtreeviz(shadow_figs_1, **dtreeviz_params, X=x_example)\n",
    "save_dtreeviz(viz, output, 'dtreeviz_pred_path_figs_1')"
   ]
  },
  {
   "cell_type": "markdown",
   "metadata": {
    "incorrectly_encoded_metadata": "tags=[] jp-MarkdownHeadingCollapsed=true",
    "tags": []
   },
   "source": [
    "### Leaf Samples"
   ]
  },
  {
   "cell_type": "code",
   "execution_count": 40,
   "metadata": {},
   "outputs": [],
   "source": [
    "trees.ctreeviz_leaf_samples(shadow_figs_0, **color_params)\n",
    "save_plt(output, 'ctreeviz_leaf_samples_figs_0')"
   ]
  },
  {
   "cell_type": "code",
   "execution_count": 41,
   "metadata": {},
   "outputs": [],
   "source": [
    "trees.ctreeviz_leaf_samples(shadow_figs_1, **color_params)\n",
    "save_plt(output, 'ctreeviz_leaf_samples_figs_1')"
   ]
  },
  {
   "cell_type": "markdown",
   "metadata": {
    "tags": []
   },
   "source": [
    "### Leaf Criterion"
   ]
  },
  {
   "cell_type": "code",
   "execution_count": 42,
   "metadata": {},
   "outputs": [],
   "source": [
    "trees.viz_leaf_criterion(shadow_figs_0, display_type='plot', **color_params)\n",
    "save_plt(output, 'viz_leaf_criterion_figs_0')"
   ]
  },
  {
   "cell_type": "code",
   "execution_count": 43,
   "metadata": {},
   "outputs": [],
   "source": [
    "trees.viz_leaf_criterion(shadow_figs_0, display_type='hist', **color_params)\n",
    "save_plt(output, 'viz_leaf_criterion_hist_figs_0')"
   ]
  },
  {
   "cell_type": "code",
   "execution_count": 44,
   "metadata": {},
   "outputs": [],
   "source": [
    "trees.viz_leaf_criterion(shadow_figs_1, display_type='plot', **color_params)\n",
    "save_plt(output, 'viz_leaf_criterion_figs_1')"
   ]
  },
  {
   "cell_type": "code",
   "execution_count": 45,
   "metadata": {},
   "outputs": [],
   "source": [
    "trees.viz_leaf_criterion(shadow_figs_1, display_type='hist', **color_params)\n",
    "save_plt(output, 'viz_leaf_criterion_hist_figs_1')"
   ]
  },
  {
   "cell_type": "markdown",
   "metadata": {
    "tags": []
   },
   "source": [
    "### Splits in Feature Space"
   ]
  },
  {
   "cell_type": "code",
   "execution_count": 46,
   "metadata": {},
   "outputs": [],
   "source": [
    "trees.ctreeviz_univar(shadow_figs_0, feature_name='x_1_1', **color_params, gtype = 'barstacked', show={'legend', 'splits', 'axis'})\n",
    "save_plt(output, 'ctreeviz_univar_figs_0')"
   ]
  },
  {
   "cell_type": "markdown",
   "metadata": {
    "tags": []
   },
   "source": [
    "### Node Sample"
   ]
  },
  {
   "cell_type": "code",
   "execution_count": 47,
   "metadata": {},
   "outputs": [
    {
     "data": {
      "text/html": [
       "<div>\n",
       "<style scoped>\n",
       "    .dataframe tbody tr th:only-of-type {\n",
       "        vertical-align: middle;\n",
       "    }\n",
       "\n",
       "    .dataframe tbody tr th {\n",
       "        vertical-align: top;\n",
       "    }\n",
       "\n",
       "    .dataframe thead th {\n",
       "        text-align: right;\n",
       "    }\n",
       "</style>\n",
       "<table border=\"1\" class=\"dataframe\">\n",
       "  <thead>\n",
       "    <tr style=\"text-align: right;\">\n",
       "      <th></th>\n",
       "      <th>x_0_0</th>\n",
       "      <th>x_0_1</th>\n",
       "      <th>x_0_2</th>\n",
       "      <th>x_0_3</th>\n",
       "      <th>x_0_4</th>\n",
       "      <th>x_0_5</th>\n",
       "      <th>x_0_6</th>\n",
       "      <th>x_0_7</th>\n",
       "      <th>x_0_8</th>\n",
       "      <th>x_0_9</th>\n",
       "      <th>...</th>\n",
       "      <th>x_1_5</th>\n",
       "      <th>x_1_6</th>\n",
       "      <th>x_1_7</th>\n",
       "      <th>x_1_8</th>\n",
       "      <th>x_1_9</th>\n",
       "      <th>x_2_0</th>\n",
       "      <th>x_2_1</th>\n",
       "      <th>x_2_2</th>\n",
       "      <th>x_2_3</th>\n",
       "      <th>x_2_4</th>\n",
       "    </tr>\n",
       "  </thead>\n",
       "  <tbody>\n",
       "    <tr>\n",
       "      <th>count</th>\n",
       "      <td>763.000000</td>\n",
       "      <td>763.000000</td>\n",
       "      <td>763.000000</td>\n",
       "      <td>763.000000</td>\n",
       "      <td>763.000000</td>\n",
       "      <td>763.000000</td>\n",
       "      <td>763.000000</td>\n",
       "      <td>763.000000</td>\n",
       "      <td>763.000000</td>\n",
       "      <td>763.000000</td>\n",
       "      <td>...</td>\n",
       "      <td>763.000000</td>\n",
       "      <td>763.000000</td>\n",
       "      <td>763.000000</td>\n",
       "      <td>763.000000</td>\n",
       "      <td>763.000000</td>\n",
       "      <td>763.000000</td>\n",
       "      <td>763.000000</td>\n",
       "      <td>763.000000</td>\n",
       "      <td>763.000000</td>\n",
       "      <td>763.000000</td>\n",
       "    </tr>\n",
       "    <tr>\n",
       "      <th>mean</th>\n",
       "      <td>1.767229</td>\n",
       "      <td>1.116154</td>\n",
       "      <td>1.083245</td>\n",
       "      <td>1.477000</td>\n",
       "      <td>-0.810264</td>\n",
       "      <td>0.525841</td>\n",
       "      <td>2.012303</td>\n",
       "      <td>0.930154</td>\n",
       "      <td>4.182811</td>\n",
       "      <td>-1.129694</td>\n",
       "      <td>...</td>\n",
       "      <td>-0.239827</td>\n",
       "      <td>0.030528</td>\n",
       "      <td>0.026965</td>\n",
       "      <td>0.005057</td>\n",
       "      <td>-0.033579</td>\n",
       "      <td>0.695488</td>\n",
       "      <td>0.997064</td>\n",
       "      <td>1.398869</td>\n",
       "      <td>-0.566830</td>\n",
       "      <td>-0.008997</td>\n",
       "    </tr>\n",
       "    <tr>\n",
       "      <th>std</th>\n",
       "      <td>1.450773</td>\n",
       "      <td>1.576796</td>\n",
       "      <td>1.409163</td>\n",
       "      <td>1.775271</td>\n",
       "      <td>1.714659</td>\n",
       "      <td>1.638135</td>\n",
       "      <td>1.895840</td>\n",
       "      <td>2.721929</td>\n",
       "      <td>1.494092</td>\n",
       "      <td>1.491544</td>\n",
       "      <td>...</td>\n",
       "      <td>0.873685</td>\n",
       "      <td>1.009608</td>\n",
       "      <td>0.973880</td>\n",
       "      <td>0.998447</td>\n",
       "      <td>0.989816</td>\n",
       "      <td>1.062380</td>\n",
       "      <td>0.614211</td>\n",
       "      <td>1.054637</td>\n",
       "      <td>0.359206</td>\n",
       "      <td>1.055266</td>\n",
       "    </tr>\n",
       "    <tr>\n",
       "      <th>min</th>\n",
       "      <td>-2.401616</td>\n",
       "      <td>-5.031597</td>\n",
       "      <td>-3.034274</td>\n",
       "      <td>-4.715743</td>\n",
       "      <td>-6.532610</td>\n",
       "      <td>-4.867419</td>\n",
       "      <td>-5.427759</td>\n",
       "      <td>-6.078812</td>\n",
       "      <td>2.363504</td>\n",
       "      <td>-5.196776</td>\n",
       "      <td>...</td>\n",
       "      <td>-2.917652</td>\n",
       "      <td>-3.505779</td>\n",
       "      <td>-3.444223</td>\n",
       "      <td>-3.031508</td>\n",
       "      <td>-3.004628</td>\n",
       "      <td>-2.175032</td>\n",
       "      <td>0.053406</td>\n",
       "      <td>-0.903441</td>\n",
       "      <td>-2.532628</td>\n",
       "      <td>-3.825267</td>\n",
       "    </tr>\n",
       "    <tr>\n",
       "      <th>25%</th>\n",
       "      <td>0.874623</td>\n",
       "      <td>0.174982</td>\n",
       "      <td>-0.004228</td>\n",
       "      <td>0.207505</td>\n",
       "      <td>-1.898567</td>\n",
       "      <td>-0.554186</td>\n",
       "      <td>0.856166</td>\n",
       "      <td>-0.794236</td>\n",
       "      <td>3.023169</td>\n",
       "      <td>-2.161035</td>\n",
       "      <td>...</td>\n",
       "      <td>-0.826657</td>\n",
       "      <td>-0.642174</td>\n",
       "      <td>-0.567451</td>\n",
       "      <td>-0.650796</td>\n",
       "      <td>-0.706208</td>\n",
       "      <td>-0.106078</td>\n",
       "      <td>0.545339</td>\n",
       "      <td>0.582967</td>\n",
       "      <td>-0.790365</td>\n",
       "      <td>-0.683467</td>\n",
       "    </tr>\n",
       "    <tr>\n",
       "      <th>50%</th>\n",
       "      <td>1.719770</td>\n",
       "      <td>1.190583</td>\n",
       "      <td>1.095149</td>\n",
       "      <td>1.433716</td>\n",
       "      <td>-0.826681</td>\n",
       "      <td>0.611711</td>\n",
       "      <td>2.174741</td>\n",
       "      <td>0.829511</td>\n",
       "      <td>3.795663</td>\n",
       "      <td>-1.280435</td>\n",
       "      <td>...</td>\n",
       "      <td>-0.244170</td>\n",
       "      <td>0.025880</td>\n",
       "      <td>0.068336</td>\n",
       "      <td>-0.017602</td>\n",
       "      <td>-0.049954</td>\n",
       "      <td>0.692166</td>\n",
       "      <td>0.941336</td>\n",
       "      <td>1.369705</td>\n",
       "      <td>-0.544056</td>\n",
       "      <td>-0.001038</td>\n",
       "    </tr>\n",
       "    <tr>\n",
       "      <th>75%</th>\n",
       "      <td>2.714320</td>\n",
       "      <td>2.104298</td>\n",
       "      <td>2.110253</td>\n",
       "      <td>2.650330</td>\n",
       "      <td>0.291295</td>\n",
       "      <td>1.708167</td>\n",
       "      <td>3.301559</td>\n",
       "      <td>2.772666</td>\n",
       "      <td>4.964354</td>\n",
       "      <td>-0.258586</td>\n",
       "      <td>...</td>\n",
       "      <td>0.241018</td>\n",
       "      <td>0.684262</td>\n",
       "      <td>0.672124</td>\n",
       "      <td>0.668012</td>\n",
       "      <td>0.589396</td>\n",
       "      <td>1.440461</td>\n",
       "      <td>1.309825</td>\n",
       "      <td>2.097894</td>\n",
       "      <td>-0.298490</td>\n",
       "      <td>0.677038</td>\n",
       "    </tr>\n",
       "    <tr>\n",
       "      <th>max</th>\n",
       "      <td>6.481590</td>\n",
       "      <td>6.010321</td>\n",
       "      <td>5.060752</td>\n",
       "      <td>7.156921</td>\n",
       "      <td>3.925822</td>\n",
       "      <td>5.455501</td>\n",
       "      <td>7.688588</td>\n",
       "      <td>9.963754</td>\n",
       "      <td>11.028387</td>\n",
       "      <td>3.838186</td>\n",
       "      <td>...</td>\n",
       "      <td>5.072575</td>\n",
       "      <td>3.955030</td>\n",
       "      <td>3.148567</td>\n",
       "      <td>3.396995</td>\n",
       "      <td>3.062164</td>\n",
       "      <td>3.559361</td>\n",
       "      <td>4.857449</td>\n",
       "      <td>5.089502</td>\n",
       "      <td>0.084606</td>\n",
       "      <td>3.342587</td>\n",
       "    </tr>\n",
       "  </tbody>\n",
       "</table>\n",
       "<p>8 rows × 35 columns</p>\n",
       "</div>"
      ],
      "text/plain": [
       "            x_0_0       x_0_1       x_0_2       x_0_3       x_0_4       x_0_5  \\\n",
       "count  763.000000  763.000000  763.000000  763.000000  763.000000  763.000000   \n",
       "mean     1.767229    1.116154    1.083245    1.477000   -0.810264    0.525841   \n",
       "std      1.450773    1.576796    1.409163    1.775271    1.714659    1.638135   \n",
       "min     -2.401616   -5.031597   -3.034274   -4.715743   -6.532610   -4.867419   \n",
       "25%      0.874623    0.174982   -0.004228    0.207505   -1.898567   -0.554186   \n",
       "50%      1.719770    1.190583    1.095149    1.433716   -0.826681    0.611711   \n",
       "75%      2.714320    2.104298    2.110253    2.650330    0.291295    1.708167   \n",
       "max      6.481590    6.010321    5.060752    7.156921    3.925822    5.455501   \n",
       "\n",
       "            x_0_6       x_0_7       x_0_8       x_0_9  ...       x_1_5  \\\n",
       "count  763.000000  763.000000  763.000000  763.000000  ...  763.000000   \n",
       "mean     2.012303    0.930154    4.182811   -1.129694  ...   -0.239827   \n",
       "std      1.895840    2.721929    1.494092    1.491544  ...    0.873685   \n",
       "min     -5.427759   -6.078812    2.363504   -5.196776  ...   -2.917652   \n",
       "25%      0.856166   -0.794236    3.023169   -2.161035  ...   -0.826657   \n",
       "50%      2.174741    0.829511    3.795663   -1.280435  ...   -0.244170   \n",
       "75%      3.301559    2.772666    4.964354   -0.258586  ...    0.241018   \n",
       "max      7.688588    9.963754   11.028387    3.838186  ...    5.072575   \n",
       "\n",
       "            x_1_6       x_1_7       x_1_8       x_1_9       x_2_0       x_2_1  \\\n",
       "count  763.000000  763.000000  763.000000  763.000000  763.000000  763.000000   \n",
       "mean     0.030528    0.026965    0.005057   -0.033579    0.695488    0.997064   \n",
       "std      1.009608    0.973880    0.998447    0.989816    1.062380    0.614211   \n",
       "min     -3.505779   -3.444223   -3.031508   -3.004628   -2.175032    0.053406   \n",
       "25%     -0.642174   -0.567451   -0.650796   -0.706208   -0.106078    0.545339   \n",
       "50%      0.025880    0.068336   -0.017602   -0.049954    0.692166    0.941336   \n",
       "75%      0.684262    0.672124    0.668012    0.589396    1.440461    1.309825   \n",
       "max      3.955030    3.148567    3.396995    3.062164    3.559361    4.857449   \n",
       "\n",
       "            x_2_2       x_2_3       x_2_4  \n",
       "count  763.000000  763.000000  763.000000  \n",
       "mean     1.398869   -0.566830   -0.008997  \n",
       "std      1.054637    0.359206    1.055266  \n",
       "min     -0.903441   -2.532628   -3.825267  \n",
       "25%      0.582967   -0.790365   -0.683467  \n",
       "50%      1.369705   -0.544056   -0.001038  \n",
       "75%      2.097894   -0.298490    0.677038  \n",
       "max      5.089502    0.084606    3.342587  \n",
       "\n",
       "[8 rows x 35 columns]"
      ]
     },
     "execution_count": 47,
     "metadata": {},
     "output_type": "execute_result"
    }
   ],
   "source": [
    "trees.describe_node_sample(shadow_figs_0, 18)"
   ]
  },
  {
   "cell_type": "markdown",
   "metadata": {
    "tags": []
   },
   "source": [
    "## XGBoost\n",
    "Tree 0 only"
   ]
  },
  {
   "cell_type": "code",
   "execution_count": 48,
   "metadata": {},
   "outputs": [],
   "source": [
    "shadow_xgboost_0 = ShadowXGBDTree(model_xgboost, 0, X_train, y_train, feat_names, 'y', [0, 1])"
   ]
  },
  {
   "cell_type": "markdown",
   "metadata": {
    "tags": []
   },
   "source": [
    "### Trees"
   ]
  },
  {
   "cell_type": "markdown",
   "metadata": {
    "tags": []
   },
   "source": [
    "#### Split Hists"
   ]
  },
  {
   "cell_type": "code",
   "execution_count": 49,
   "metadata": {},
   "outputs": [],
   "source": [
    "viz = trees.dtreeviz(shadow_xgboost_0, **dtreeviz_params)\n",
    "save_dtreeviz(viz, output, 'dtreeviz_xgboost_0')"
   ]
  },
  {
   "cell_type": "markdown",
   "metadata": {
    "tags": []
   },
   "source": [
    "#### Text"
   ]
  },
  {
   "cell_type": "code",
   "execution_count": 50,
   "metadata": {},
   "outputs": [],
   "source": [
    "viz = trees.dtreeviz(shadow_xgboost_0, **dtreeviz_params, fancy=False, show_node_labels=True)\n",
    "save_dtreeviz(viz, output, 'dtreeviz_text_xgboost_0')"
   ]
  },
  {
   "cell_type": "markdown",
   "metadata": {
    "tags": []
   },
   "source": [
    "### Prediction Path"
   ]
  },
  {
   "cell_type": "code",
   "execution_count": 51,
   "metadata": {},
   "outputs": [
    {
     "name": "stdout",
     "output_type": "stream",
     "text": [
      "0.05 <= x_2_3  < 1.87\n",
      "\n"
     ]
    }
   ],
   "source": [
    "print(trees.explain_prediction_path(shadow_xgboost_0, x=x_example, explanation_type='plain_english'))"
   ]
  },
  {
   "cell_type": "code",
   "execution_count": 52,
   "metadata": {},
   "outputs": [],
   "source": [
    "viz = trees.dtreeviz(shadow_xgboost_0, **dtreeviz_params, X=x_example)\n",
    "save_dtreeviz(viz, output, 'dtreeviz_pred_path_xgboost_0')"
   ]
  },
  {
   "cell_type": "markdown",
   "metadata": {
    "tags": []
   },
   "source": [
    "### Leaf Samples"
   ]
  },
  {
   "cell_type": "code",
   "execution_count": 53,
   "metadata": {},
   "outputs": [],
   "source": [
    "trees.ctreeviz_leaf_samples(shadow_xgboost_0, **color_params, label_all_leafs=False)\n",
    "save_plt(output, 'ctreeviz_leaf_samples_xgboost_0')"
   ]
  },
  {
   "cell_type": "markdown",
   "metadata": {
    "tags": []
   },
   "source": [
    "Leaf Criterion is not supported for `XGBoost`"
   ]
  },
  {
   "cell_type": "markdown",
   "metadata": {
    "tags": []
   },
   "source": [
    "### Splits in Feature Space"
   ]
  },
  {
   "cell_type": "code",
   "execution_count": 54,
   "metadata": {},
   "outputs": [],
   "source": [
    "trees.ctreeviz_univar(shadow_xgboost_0, feature_name='x_1_1', **color_params, gtype = 'barstacked', show={'legend', 'splits', 'axis'})\n",
    "save_plt(output, 'ctreeviz_univar_xgboost_0')"
   ]
  },
  {
   "cell_type": "markdown",
   "metadata": {
    "tags": []
   },
   "source": [
    "### Node Sample"
   ]
  },
  {
   "cell_type": "code",
   "execution_count": 55,
   "metadata": {},
   "outputs": [
    {
     "data": {
      "text/html": [
       "<div>\n",
       "<style scoped>\n",
       "    .dataframe tbody tr th:only-of-type {\n",
       "        vertical-align: middle;\n",
       "    }\n",
       "\n",
       "    .dataframe tbody tr th {\n",
       "        vertical-align: top;\n",
       "    }\n",
       "\n",
       "    .dataframe thead th {\n",
       "        text-align: right;\n",
       "    }\n",
       "</style>\n",
       "<table border=\"1\" class=\"dataframe\">\n",
       "  <thead>\n",
       "    <tr style=\"text-align: right;\">\n",
       "      <th></th>\n",
       "      <th>x_0_0</th>\n",
       "      <th>x_0_1</th>\n",
       "      <th>x_0_2</th>\n",
       "      <th>x_0_3</th>\n",
       "      <th>x_0_4</th>\n",
       "      <th>x_0_5</th>\n",
       "      <th>x_0_6</th>\n",
       "      <th>x_0_7</th>\n",
       "      <th>x_0_8</th>\n",
       "      <th>x_0_9</th>\n",
       "      <th>...</th>\n",
       "      <th>x_1_5</th>\n",
       "      <th>x_1_6</th>\n",
       "      <th>x_1_7</th>\n",
       "      <th>x_1_8</th>\n",
       "      <th>x_1_9</th>\n",
       "      <th>x_2_0</th>\n",
       "      <th>x_2_1</th>\n",
       "      <th>x_2_2</th>\n",
       "      <th>x_2_3</th>\n",
       "      <th>x_2_4</th>\n",
       "    </tr>\n",
       "  </thead>\n",
       "  <tbody>\n",
       "    <tr>\n",
       "      <th>count</th>\n",
       "      <td>1638.000000</td>\n",
       "      <td>1638.000000</td>\n",
       "      <td>1638.000000</td>\n",
       "      <td>1638.000000</td>\n",
       "      <td>1638.000000</td>\n",
       "      <td>1638.000000</td>\n",
       "      <td>1638.000000</td>\n",
       "      <td>1638.000000</td>\n",
       "      <td>1638.000000</td>\n",
       "      <td>1638.000000</td>\n",
       "      <td>...</td>\n",
       "      <td>1638.000000</td>\n",
       "      <td>1638.000000</td>\n",
       "      <td>1638.000000</td>\n",
       "      <td>1638.000000</td>\n",
       "      <td>1638.000000</td>\n",
       "      <td>1638.000000</td>\n",
       "      <td>1638.000000</td>\n",
       "      <td>1638.000000</td>\n",
       "      <td>1638.000000</td>\n",
       "      <td>1638.000000</td>\n",
       "    </tr>\n",
       "    <tr>\n",
       "      <th>mean</th>\n",
       "      <td>1.012674</td>\n",
       "      <td>-0.991336</td>\n",
       "      <td>1.155281</td>\n",
       "      <td>-0.432166</td>\n",
       "      <td>-1.683346</td>\n",
       "      <td>0.098674</td>\n",
       "      <td>0.976336</td>\n",
       "      <td>3.442569</td>\n",
       "      <td>0.434084</td>\n",
       "      <td>-0.579965</td>\n",
       "      <td>...</td>\n",
       "      <td>0.933398</td>\n",
       "      <td>0.024972</td>\n",
       "      <td>0.026276</td>\n",
       "      <td>0.054004</td>\n",
       "      <td>-0.000221</td>\n",
       "      <td>-0.099415</td>\n",
       "      <td>1.230998</td>\n",
       "      <td>1.137298</td>\n",
       "      <td>-0.621605</td>\n",
       "      <td>0.028589</td>\n",
       "    </tr>\n",
       "    <tr>\n",
       "      <th>std</th>\n",
       "      <td>1.119107</td>\n",
       "      <td>1.469979</td>\n",
       "      <td>1.278005</td>\n",
       "      <td>1.551187</td>\n",
       "      <td>1.555297</td>\n",
       "      <td>1.187498</td>\n",
       "      <td>1.368490</td>\n",
       "      <td>1.280384</td>\n",
       "      <td>1.231001</td>\n",
       "      <td>1.204688</td>\n",
       "      <td>...</td>\n",
       "      <td>1.649190</td>\n",
       "      <td>0.993177</td>\n",
       "      <td>1.016335</td>\n",
       "      <td>1.005863</td>\n",
       "      <td>1.015380</td>\n",
       "      <td>1.089053</td>\n",
       "      <td>0.852878</td>\n",
       "      <td>1.087048</td>\n",
       "      <td>0.448591</td>\n",
       "      <td>1.033237</td>\n",
       "    </tr>\n",
       "    <tr>\n",
       "      <th>min</th>\n",
       "      <td>-3.138056</td>\n",
       "      <td>-6.225011</td>\n",
       "      <td>-4.076778</td>\n",
       "      <td>-5.884318</td>\n",
       "      <td>-6.849363</td>\n",
       "      <td>-3.387708</td>\n",
       "      <td>-2.904388</td>\n",
       "      <td>1.871630</td>\n",
       "      <td>-2.224703</td>\n",
       "      <td>-4.493653</td>\n",
       "      <td>...</td>\n",
       "      <td>-3.276613</td>\n",
       "      <td>-3.115242</td>\n",
       "      <td>-3.373070</td>\n",
       "      <td>-3.868328</td>\n",
       "      <td>-3.710716</td>\n",
       "      <td>-1.983176</td>\n",
       "      <td>0.047943</td>\n",
       "      <td>-1.055921</td>\n",
       "      <td>-2.721531</td>\n",
       "      <td>-3.736635</td>\n",
       "    </tr>\n",
       "    <tr>\n",
       "      <th>25%</th>\n",
       "      <td>0.245386</td>\n",
       "      <td>-2.017265</td>\n",
       "      <td>0.327914</td>\n",
       "      <td>-1.568224</td>\n",
       "      <td>-2.749472</td>\n",
       "      <td>-0.760154</td>\n",
       "      <td>-0.082223</td>\n",
       "      <td>2.441920</td>\n",
       "      <td>-0.532810</td>\n",
       "      <td>-1.410550</td>\n",
       "      <td>...</td>\n",
       "      <td>-0.274372</td>\n",
       "      <td>-0.687936</td>\n",
       "      <td>-0.671314</td>\n",
       "      <td>-0.622668</td>\n",
       "      <td>-0.726021</td>\n",
       "      <td>-0.879780</td>\n",
       "      <td>0.588146</td>\n",
       "      <td>0.303620</td>\n",
       "      <td>-0.890519</td>\n",
       "      <td>-0.649375</td>\n",
       "    </tr>\n",
       "    <tr>\n",
       "      <th>50%</th>\n",
       "      <td>1.037412</td>\n",
       "      <td>-1.012618</td>\n",
       "      <td>1.146609</td>\n",
       "      <td>-0.578757</td>\n",
       "      <td>-1.694313</td>\n",
       "      <td>0.115276</td>\n",
       "      <td>0.844027</td>\n",
       "      <td>3.176878</td>\n",
       "      <td>0.566483</td>\n",
       "      <td>-0.541788</td>\n",
       "      <td>...</td>\n",
       "      <td>0.792990</td>\n",
       "      <td>0.002374</td>\n",
       "      <td>0.028716</td>\n",
       "      <td>0.059855</td>\n",
       "      <td>-0.034026</td>\n",
       "      <td>-0.413216</td>\n",
       "      <td>1.057586</td>\n",
       "      <td>1.036936</td>\n",
       "      <td>-0.557771</td>\n",
       "      <td>0.035026</td>\n",
       "    </tr>\n",
       "    <tr>\n",
       "      <th>75%</th>\n",
       "      <td>1.750700</td>\n",
       "      <td>0.068200</td>\n",
       "      <td>1.975192</td>\n",
       "      <td>0.612229</td>\n",
       "      <td>-0.683499</td>\n",
       "      <td>0.920833</td>\n",
       "      <td>1.944449</td>\n",
       "      <td>4.102262</td>\n",
       "      <td>1.479710</td>\n",
       "      <td>0.280212</td>\n",
       "      <td>...</td>\n",
       "      <td>2.028676</td>\n",
       "      <td>0.686250</td>\n",
       "      <td>0.718958</td>\n",
       "      <td>0.701865</td>\n",
       "      <td>0.678744</td>\n",
       "      <td>0.512686</td>\n",
       "      <td>1.688846</td>\n",
       "      <td>1.831311</td>\n",
       "      <td>-0.277202</td>\n",
       "      <td>0.714184</td>\n",
       "    </tr>\n",
       "    <tr>\n",
       "      <th>max</th>\n",
       "      <td>4.974638</td>\n",
       "      <td>3.885834</td>\n",
       "      <td>5.427050</td>\n",
       "      <td>4.218194</td>\n",
       "      <td>3.426993</td>\n",
       "      <td>4.517650</td>\n",
       "      <td>6.719807</td>\n",
       "      <td>9.482532</td>\n",
       "      <td>2.360396</td>\n",
       "      <td>3.521284</td>\n",
       "      <td>...</td>\n",
       "      <td>7.036883</td>\n",
       "      <td>2.928519</td>\n",
       "      <td>3.541607</td>\n",
       "      <td>3.183238</td>\n",
       "      <td>3.181252</td>\n",
       "      <td>4.263644</td>\n",
       "      <td>5.238191</td>\n",
       "      <td>5.415948</td>\n",
       "      <td>0.105382</td>\n",
       "      <td>3.349577</td>\n",
       "    </tr>\n",
       "  </tbody>\n",
       "</table>\n",
       "<p>8 rows × 35 columns</p>\n",
       "</div>"
      ],
      "text/plain": [
       "             x_0_0        x_0_1        x_0_2        x_0_3        x_0_4  \\\n",
       "count  1638.000000  1638.000000  1638.000000  1638.000000  1638.000000   \n",
       "mean      1.012674    -0.991336     1.155281    -0.432166    -1.683346   \n",
       "std       1.119107     1.469979     1.278005     1.551187     1.555297   \n",
       "min      -3.138056    -6.225011    -4.076778    -5.884318    -6.849363   \n",
       "25%       0.245386    -2.017265     0.327914    -1.568224    -2.749472   \n",
       "50%       1.037412    -1.012618     1.146609    -0.578757    -1.694313   \n",
       "75%       1.750700     0.068200     1.975192     0.612229    -0.683499   \n",
       "max       4.974638     3.885834     5.427050     4.218194     3.426993   \n",
       "\n",
       "             x_0_5        x_0_6        x_0_7        x_0_8        x_0_9  ...  \\\n",
       "count  1638.000000  1638.000000  1638.000000  1638.000000  1638.000000  ...   \n",
       "mean      0.098674     0.976336     3.442569     0.434084    -0.579965  ...   \n",
       "std       1.187498     1.368490     1.280384     1.231001     1.204688  ...   \n",
       "min      -3.387708    -2.904388     1.871630    -2.224703    -4.493653  ...   \n",
       "25%      -0.760154    -0.082223     2.441920    -0.532810    -1.410550  ...   \n",
       "50%       0.115276     0.844027     3.176878     0.566483    -0.541788  ...   \n",
       "75%       0.920833     1.944449     4.102262     1.479710     0.280212  ...   \n",
       "max       4.517650     6.719807     9.482532     2.360396     3.521284  ...   \n",
       "\n",
       "             x_1_5        x_1_6        x_1_7        x_1_8        x_1_9  \\\n",
       "count  1638.000000  1638.000000  1638.000000  1638.000000  1638.000000   \n",
       "mean      0.933398     0.024972     0.026276     0.054004    -0.000221   \n",
       "std       1.649190     0.993177     1.016335     1.005863     1.015380   \n",
       "min      -3.276613    -3.115242    -3.373070    -3.868328    -3.710716   \n",
       "25%      -0.274372    -0.687936    -0.671314    -0.622668    -0.726021   \n",
       "50%       0.792990     0.002374     0.028716     0.059855    -0.034026   \n",
       "75%       2.028676     0.686250     0.718958     0.701865     0.678744   \n",
       "max       7.036883     2.928519     3.541607     3.183238     3.181252   \n",
       "\n",
       "             x_2_0        x_2_1        x_2_2        x_2_3        x_2_4  \n",
       "count  1638.000000  1638.000000  1638.000000  1638.000000  1638.000000  \n",
       "mean     -0.099415     1.230998     1.137298    -0.621605     0.028589  \n",
       "std       1.089053     0.852878     1.087048     0.448591     1.033237  \n",
       "min      -1.983176     0.047943    -1.055921    -2.721531    -3.736635  \n",
       "25%      -0.879780     0.588146     0.303620    -0.890519    -0.649375  \n",
       "50%      -0.413216     1.057586     1.036936    -0.557771     0.035026  \n",
       "75%       0.512686     1.688846     1.831311    -0.277202     0.714184  \n",
       "max       4.263644     5.238191     5.415948     0.105382     3.349577  \n",
       "\n",
       "[8 rows x 35 columns]"
      ]
     },
     "execution_count": 55,
     "metadata": {},
     "output_type": "execute_result"
    }
   ],
   "source": [
    "trees.describe_node_sample(shadow_xgboost_0, 42)"
   ]
  },
  {
   "cell_type": "markdown",
   "metadata": {
    "incorrectly_encoded_metadata": "tags=[] jp-MarkdownHeadingCollapsed=true",
    "jp-MarkdownHeadingCollapsed": true,
    "tags": []
   },
   "source": [
    "***\n",
    "# Tree Functions"
   ]
  },
  {
   "cell_type": "markdown",
   "metadata": {
    "tags": []
   },
   "source": [
    "## FIGS"
   ]
  },
  {
   "cell_type": "code",
   "execution_count": 56,
   "metadata": {},
   "outputs": [],
   "source": [
    "expr_figs_0 = skompile(dt_figs_0.predict_proba, feat_names)"
   ]
  },
  {
   "cell_type": "code",
   "execution_count": 57,
   "metadata": {},
   "outputs": [
    {
     "name": "stdout",
     "output_type": "stream",
     "text": [
      "SELECT CASE WHEN (x_2_1 <= 0.047700537368655205) THEN CASE WHEN (x_2_0 <= -0.6084129214286804) THEN CASE WHEN (x_1_4 <= 0.017502836883068085) THEN CASE WHEN (x_0_7 <= 1.3998010754585266) THEN 0.11379529561347743 ELSE 0.38880248833592534 END ELSE 0.032956362805574596 END ELSE 0.0026475779564620514 END ELSE CASE WHEN (x_0_8 <= 2.363405704498291) THEN CASE WHEN (x_0_7 <= 1.8703043460845947) THEN 0.1812694032424974 ELSE 0.36647904940587867 END ELSE CASE WHEN (x_1_0 <= 0.3394070416688919) THEN CASE WHEN (x_2_0 <= -0.04638334736227989) THEN 0.5054517133956387 ELSE 0.7712753555607368 END ELSE CASE WHEN (x_1_1 <= 2.0868066549301147) THEN 0.27399165507649514 ELSE 0.5887949260042283 END END END END AS tree_0 \n",
      "FROM data\n"
     ]
    }
   ],
   "source": [
    "print(expr_figs_0.to('sqlalchemy/sqlite', component=1, assign_to='tree_0'))"
   ]
  },
  {
   "cell_type": "code",
   "execution_count": 58,
   "metadata": {
    "tags": []
   },
   "outputs": [
    {
     "name": "stdout",
     "output_type": "stream",
     "text": [
      "((((np.array([0.8862047043865225, 0.11379529561347743]) if x_0_7 <= \n",
      "    1.3998010754585266 else np.array([0.6111975116640747, \n",
      "    0.38880248833592534])) if x_1_4 <= 0.017502836883068085 else np.\n",
      "    array([0.9670436371944254, 0.032956362805574596])) if x_2_0 <= \n",
      "    -0.6084129214286804 else np.array([0.9973524220435379, \n",
      "    0.0026475779564620514])) if x_2_1 <= 0.047700537368655205 else (np.\n",
      "    array([0.8187305967575026, 0.1812694032424974]) if x_0_7 <= \n",
      "    1.8703043460845947 else np.array([0.6335209505941213, \n",
      "    0.36647904940587867])) if x_0_8 <= 2.363405704498291 else (np.array\n",
      "    ([0.4945482866043614, 0.5054517133956387]) if x_2_0 <= \n",
      "    -0.04638334736227989 else np.array([0.22872464443926324, \n",
      "    0.7712753555607368])) if x_1_0 <= 0.3394070416688919 else np.array(\n",
      "    [0.7260083449235049, 0.27399165507649514]) if x_1_1 <= \n",
      "    2.0868066549301147 else np.array([0.41120507399577166, \n",
      "    0.5887949260042283]))\n",
      "\n"
     ]
    }
   ],
   "source": [
    "print(expr_figs_0.to('python/code'))"
   ]
  },
  {
   "cell_type": "code",
   "execution_count": 59,
   "metadata": {},
   "outputs": [],
   "source": [
    "expr_figs_1 = skompile(dt_figs_1.predict_proba, feat_names)"
   ]
  },
  {
   "cell_type": "code",
   "execution_count": 60,
   "metadata": {},
   "outputs": [
    {
     "name": "stdout",
     "output_type": "stream",
     "text": [
      "SELECT CASE WHEN (x_0_2 <= -0.43244342505931854) THEN 0.050912259987068116 ELSE CASE WHEN (x_0_3 <= 0.4551866203546524) THEN 0.1490697322644078 ELSE CASE WHEN (x_2_1 <= -0.31738142669200897) THEN 0.04208863699711976 ELSE CASE WHEN (x_1_3 <= -0.2993980050086975) THEN CASE WHEN (x_0_0 <= -0.9580468833446503) THEN CASE WHEN (x_1_2 <= 0.35873670876026154) THEN 0.18310858765081617 ELSE 0.7016574585635359 END ELSE CASE WHEN (x_2_0 <= 0.15202737599611282) THEN 0.7007730786721237 ELSE 0.7108632796365139 END END ELSE CASE WHEN (x_1_4 <= 0.16462678462266922) THEN CASE WHEN (x_0_5 <= 0.9298670291900635) THEN CASE WHEN (x_2_0 <= 0.5672585964202881) THEN 0.746875 ELSE 0.3492462311557789 END ELSE 0.2857142857142857 END ELSE CASE WHEN (x_1_5 <= -0.47995996475219727) THEN 0.5458461538461539 ELSE 0.0855640535372849 END END END END END END AS tree_1 \n",
      "FROM data\n"
     ]
    }
   ],
   "source": [
    "print(expr_figs_1.to('sqlalchemy/sqlite', component=1, assign_to='tree_1'))"
   ]
  },
  {
   "cell_type": "code",
   "execution_count": 61,
   "metadata": {
    "tags": []
   },
   "outputs": [
    {
     "name": "stdout",
     "output_type": "stream",
     "text": [
      "(np.array([0.9490877400129318, 0.050912259987068116]) if x_0_2 <= \n",
      "    -0.43244342505931854 else np.array([0.8509302677355922, \n",
      "    0.1490697322644078]) if x_0_3 <= 0.4551866203546524 else np.array([\n",
      "    0.9579113630028803, 0.04208863699711976]) if x_2_1 <= \n",
      "    -0.31738142669200897 else ((np.array([0.8168914123491838, \n",
      "    0.18310858765081617]) if x_1_2 <= 0.35873670876026154 else np.array\n",
      "    ([0.2983425414364641, 0.7016574585635359])) if x_0_0 <= \n",
      "    -0.9580468833446503 else np.array([0.2992269213278763, \n",
      "    0.7007730786721237]) if x_2_0 <= 0.15202737599611282 else np.array(\n",
      "    [0.28913672036348614, 0.7108632796365139])) if x_1_3 <= \n",
      "    -0.2993980050086975 else ((np.array([0.253125, 0.746875]) if x_2_0 <=\n",
      "    0.5672585964202881 else np.array([0.6507537688442211, \n",
      "    0.3492462311557789])) if x_0_5 <= 0.9298670291900635 else np.array(\n",
      "    [0.7142857142857143, 0.2857142857142857])) if x_1_4 <= \n",
      "    0.16462678462266922 else np.array([0.45415384615384613, \n",
      "    0.5458461538461539]) if x_1_5 <= -0.47995996475219727 else np.array\n",
      "    ([0.9144359464627151, 0.0855640535372849]))\n",
      "\n"
     ]
    }
   ],
   "source": [
    "print(expr_figs_1.to('python/code'))"
   ]
  },
  {
   "cell_type": "markdown",
   "metadata": {
    "jp-MarkdownHeadingCollapsed": true,
    "tags": []
   },
   "source": [
    "## XGBoost\n",
    "Text of Tree 0 only, consider using [xgb2sql](https://github.com/Chryzanthemum/xgb2sql) if SQL is needed."
   ]
  },
  {
   "cell_type": "code",
   "execution_count": 62,
   "metadata": {},
   "outputs": [
    {
     "name": "stdout",
     "output_type": "stream",
     "text": [
      "0:[x_2_1<0.0476587564] yes=1,no=2,missing=1\n",
      "\t1:[x_2_0<-0.645031273] yes=3,no=4,missing=3\n",
      "\t\t3:[x_1_4<0.0179839358] yes=7,no=8,missing=7\n",
      "\t\t\t7:[x_0_2<0.557516992] yes=15,no=16,missing=15\n",
      "\t\t\t\t15:[x_0_7<1.61057043] yes=29,no=30,missing=29\n",
      "\t\t\t\t\t29:[x_0_5<0.0603608899] yes=53,no=54,missing=53\n",
      "\t\t\t\t\t\t53:leaf=-0.451428592\n",
      "\t\t\t\t\t\t54:leaf=-0.546934724\n",
      "\t\t\t\t\t30:[x_2_1<-1.1075592] yes=55,no=56,missing=55\n",
      "\t\t\t\t\t\t55:leaf=-0.499441355\n",
      "\t\t\t\t\t\t56:leaf=-0.160159379\n",
      "\t\t\t\t16:[x_0_0<-0.517694712] yes=31,no=32,missing=31\n",
      "\t\t\t\t\t31:[x_0_7<2.26842213] yes=57,no=58,missing=57\n",
      "\t\t\t\t\t\t57:leaf=-0.453658551\n",
      "\t\t\t\t\t\t58:leaf=0.0285714306\n",
      "\t\t\t\t\t32:[x_1_0<-0.46045959] yes=59,no=60,missing=59\n",
      "\t\t\t\t\t\t59:leaf=-0.272289157\n",
      "\t\t\t\t\t\t60:leaf=0.276237637\n",
      "\t\t\t8:[x_1_3<-0.922470212] yes=17,no=18,missing=17\n",
      "\t\t\t\t17:[x_1_0<-0.379907161] yes=33,no=34,missing=33\n",
      "\t\t\t\t\t33:[x_0_3<0.779166937] yes=61,no=62,missing=61\n",
      "\t\t\t\t\t\t61:leaf=-0.151401877\n",
      "\t\t\t\t\t\t62:leaf=0.400000036\n",
      "\t\t\t\t\t34:[x_0_2<0.0654732138] yes=63,no=64,missing=63\n",
      "\t\t\t\t\t\t63:leaf=-0.520000041\n",
      "\t\t\t\t\t\t64:leaf=-0.24000001\n",
      "\t\t\t\t18:[x_2_1<-0.217023164] yes=35,no=36,missing=35\n",
      "\t\t\t\t\t35:[x_1_5<3.1683383] yes=65,no=66,missing=65\n",
      "\t\t\t\t\t\t65:leaf=-0.592393219\n",
      "\t\t\t\t\t\t66:leaf=-0.277611941\n",
      "\t\t\t\t\t36:[x_1_5<-0.842451215] yes=67,no=68,missing=67\n",
      "\t\t\t\t\t\t67:leaf=-0.245595872\n",
      "\t\t\t\t\t\t68:leaf=-0.522289157\n",
      "\t\t4:[x_0_11<3.6412077] yes=9,no=10,missing=9\n",
      "\t\t\t9:[x_1_0<-3.16866493] yes=19,no=20,missing=19\n",
      "\t\t\t\t19:leaf=-0.150000006\n",
      "\t\t\t\t20:leaf=-0.59614414\n",
      "\t\t\t10:leaf=-0.150000006\n",
      "\t2:[x_0_8<2.36315727] yes=5,no=6,missing=5\n",
      "\t\t5:[x_0_7<1.87101865] yes=11,no=12,missing=11\n",
      "\t\t\t11:[x_0_2<-0.327792406] yes=21,no=22,missing=21\n",
      "\t\t\t\t21:[x_0_5<3.19854832] yes=37,no=38,missing=37\n",
      "\t\t\t\t\t37:[x_1_0<-0.866449833] yes=69,no=70,missing=69\n",
      "\t\t\t\t\t\t69:leaf=-0.361528665\n",
      "\t\t\t\t\t\t70:leaf=-0.50694263\n",
      "\t\t\t\t\t38:[x_0_4<-2.11595488] yes=71,no=72,missing=71\n",
      "\t\t\t\t\t\t71:leaf=-0.517241418\n",
      "\t\t\t\t\t\t72:leaf=0.329577476\n",
      "\t\t\t\t22:[x_0_3<-0.0131379161] yes=39,no=40,missing=39\n",
      "\t\t\t\t\t39:[x_0_5<2.10414362] yes=73,no=74,missing=73\n",
      "\t\t\t\t\t\t73:leaf=-0.4675951\n",
      "\t\t\t\t\t\t74:leaf=0.247058839\n",
      "\t\t\t\t\t40:[x_1_0<-0.741541505] yes=75,no=76,missing=75\n",
      "\t\t\t\t\t\t75:leaf=0.0857142955\n",
      "\t\t\t\t\t\t76:leaf=-0.260613739\n",
      "\t\t\t12:[x_1_1<0.0114513319] yes=23,no=24,missing=23\n",
      "\t\t\t\t23:[x_0_8<-2.22477674] yes=41,no=42,missing=41\n",
      "\t\t\t\t\t41:[x_0_5<0.787687898] yes=77,no=78,missing=77\n",
      "\t\t\t\t\t\t77:leaf=-0.529608965\n",
      "\t\t\t\t\t\t78:leaf=0.101538472\n",
      "\t\t\t\t\t42:[x_1_2<0.552866995] yes=79,no=80,missing=79\n",
      "\t\t\t\t\t\t79:leaf=0.201496735\n",
      "\t\t\t\t\t\t80:leaf=-0.171577126\n",
      "\t\t\t\t24:[x_1_0<0.651979804] yes=43,no=44,missing=43\n",
      "\t\t\t\t\t43:[x_1_3<-1.18832505] yes=81,no=82,missing=81\n",
      "\t\t\t\t\t\t81:leaf=0.0360975601\n",
      "\t\t\t\t\t\t82:leaf=-0.187583163\n",
      "\t\t\t\t\t44:[x_1_1<2.36274719] yes=83,no=84,missing=83\n",
      "\t\t\t\t\t\t83:leaf=-0.548837245\n",
      "\t\t\t\t\t\t84:leaf=-0.328813583\n",
      "\t\t6:[x_1_0<-0.0499799103] yes=13,no=14,missing=13\n",
      "\t\t\t13:[x_2_0<-0.0462705716] yes=25,no=26,missing=25\n",
      "\t\t\t\t25:[x_2_1<0.391258895] yes=45,no=46,missing=45\n",
      "\t\t\t\t\t45:[x_0_8<4.06781816] yes=85,no=86,missing=85\n",
      "\t\t\t\t\t\t85:leaf=0.114396892\n",
      "\t\t\t\t\t\t86:leaf=0.397260278\n",
      "\t\t\t\t\t46:[x_0_5<1.06533742] yes=87,no=88,missing=87\n",
      "\t\t\t\t\t\t87:leaf=-0.0185022037\n",
      "\t\t\t\t\t\t88:leaf=-0.529411793\n",
      "\t\t\t\t26:[x_0_3<0.528353095] yes=47,no=48,missing=47\n",
      "\t\t\t\t\t47:[x_0_2<2.35224748] yes=89,no=90,missing=89\n",
      "\t\t\t\t\t\t89:leaf=0.273134351\n",
      "\t\t\t\t\t\t90:leaf=-0.195918366\n",
      "\t\t\t\t\t48:[x_2_1<0.369207084] yes=91,no=92,missing=91\n",
      "\t\t\t\t\t\t91:leaf=-0.375\n",
      "\t\t\t\t\t\t92:leaf=0.433992118\n",
      "\t\t\t14:[x_1_1<1.66213548] yes=27,no=28,missing=27\n",
      "\t\t\t\t27:[x_0_9<-1.06273139] yes=49,no=50,missing=49\n",
      "\t\t\t\t\t49:[x_1_0<0.350768745] yes=93,no=94,missing=93\n",
      "\t\t\t\t\t\t93:leaf=-0.164705902\n",
      "\t\t\t\t\t\t94:leaf=-0.516577542\n",
      "\t\t\t\t\t50:[x_1_4<0.419323266] yes=95,no=96,missing=95\n",
      "\t\t\t\t\t\t95:leaf=0.29815951\n",
      "\t\t\t\t\t\t96:leaf=-0.435849071\n",
      "\t\t\t\t28:[x_2_0<-0.396020621] yes=51,no=52,missing=51\n",
      "\t\t\t\t\t51:[x_2_1<0.192522258] yes=97,no=98,missing=97\n",
      "\t\t\t\t\t\t97:leaf=0.0711864457\n",
      "\t\t\t\t\t\t98:leaf=-0.556097567\n",
      "\t\t\t\t\t52:[x_0_3<1.26900887] yes=99,no=100,missing=99\n",
      "\t\t\t\t\t\t99:leaf=0.0314647369\n",
      "\t\t\t\t\t\t100:leaf=0.347368419\n",
      "\n"
     ]
    }
   ],
   "source": [
    "print(model_xgboost.get_booster()[0].get_dump(dump_format='text')[0])"
   ]
  }
 ],
 "metadata": {
  "jupytext": {
   "cell_metadata_filter": "-all",
   "notebook_metadata_filter": "-all"
  },
  "kernelspec": {
   "display_name": "Python 3 (ipykernel)",
   "language": "python",
   "name": "python3"
  },
  "language_info": {
   "codemirror_mode": {
    "name": "ipython",
    "version": 3
   },
   "file_extension": ".py",
   "mimetype": "text/x-python",
   "name": "python",
   "nbconvert_exporter": "python",
   "pygments_lexer": "ipython3",
   "version": "3.10.7"
  }
 },
 "nbformat": 4,
 "nbformat_minor": 4
}
